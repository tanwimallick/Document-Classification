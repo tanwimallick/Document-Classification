{
 "cells": [
  {
   "cell_type": "markdown",
   "id": "237baaf9",
   "metadata": {},
   "source": [
    "# Snorkel Definitions Experiment: GPT Short\n",
    "\n",
    "In this experiment, I generate two definitions from ChatGPT, run the same experiment as before, and compare the results. The hypothesis is that a better-formed definition will result in higher semantic similarity scores between research article abstracts and it. My previous definition for the last few experiments was largely from Britannica. In this experiment, I give ChatGPT the following prompt:\n",
    "\n",
    "> *I'd like to label some research articles, classifying whether they belong to the CS field or not. The approach I'm using is semantic similarity, where I use an embeddings model to encode both the abstract and a definition for the field of CS, then compute the cosine similarity. The issue is that I'm getting very low scores for my definition, which implies I need a better definition. My task for you is this: come up with a definition for the field of CS that encompasses the major contemporary research interests of the field, both theoretical and applied, in such a way that it would allow me to classify the documents well.*\n",
    "\n",
    "The approach I use is to give ChatGPT information about the validation task I am performing, in the hopes that it will inform a better definition. After this, I will usually prompt it to provide an alternative, shorter two-sentence definition, keeping in mind the earlier instructions. The goal is to get both a longer and shorter definition, and see if the length of the definition also impacts the semantic similarity score."
   ]
  },
  {
   "cell_type": "markdown",
   "id": "2c76d4a5",
   "metadata": {},
   "source": [
    "### Compute semantic similarity scores\n",
    "Based on the results of the previous new embeddings model experiment, we use the best-performing models from that experiment. we begin the experiment with the **short** GPT definition."
   ]
  },
  {
   "cell_type": "code",
   "execution_count": 1,
   "id": "0f22127d",
   "metadata": {},
   "outputs": [
    {
     "name": "stderr",
     "output_type": "stream",
     "text": [
      "C:\\Users\\arnav\\AppData\\Local\\Programs\\Python\\Python311\\Lib\\site-packages\\sentence_transformers\\cross_encoder\\CrossEncoder.py:11: TqdmExperimentalWarning: Using `tqdm.autonotebook.tqdm` in notebook mode. Use `tqdm.tqdm` instead to force console mode (e.g. in jupyter console)\n",
      "  from tqdm.autonotebook import tqdm, trange\n"
     ]
    }
   ],
   "source": [
    "from snorkel.labeling import labeling_function\n",
    "from snorkel.labeling.model import LabelModel\n",
    "from snorkel.labeling import PandasLFApplier\n",
    "import pandas as pd\n",
    "from sentence_transformers import SentenceTransformer, util"
   ]
  },
  {
   "cell_type": "code",
   "execution_count": 2,
   "id": "a811cede",
   "metadata": {},
   "outputs": [
    {
     "data": {
      "text/html": [
       "<div>\n",
       "<style scoped>\n",
       "    .dataframe tbody tr th:only-of-type {\n",
       "        vertical-align: middle;\n",
       "    }\n",
       "\n",
       "    .dataframe tbody tr th {\n",
       "        vertical-align: top;\n",
       "    }\n",
       "\n",
       "    .dataframe thead th {\n",
       "        text-align: right;\n",
       "    }\n",
       "</style>\n",
       "<table border=\"1\" class=\"dataframe\">\n",
       "  <thead>\n",
       "    <tr style=\"text-align: right;\">\n",
       "      <th></th>\n",
       "      <th>ID</th>\n",
       "      <th>TITLE</th>\n",
       "      <th>ABSTRACT</th>\n",
       "      <th>Computer Science</th>\n",
       "      <th>Physics</th>\n",
       "      <th>Mathematics</th>\n",
       "      <th>Statistics</th>\n",
       "      <th>Quantitative Biology</th>\n",
       "      <th>Quantitative Finance</th>\n",
       "    </tr>\n",
       "  </thead>\n",
       "  <tbody>\n",
       "    <tr>\n",
       "      <th>0</th>\n",
       "      <td>1</td>\n",
       "      <td>Reconstructing Subject-Specific Effect Maps</td>\n",
       "      <td>Predictive models allow subject-specific inf...</td>\n",
       "      <td>1</td>\n",
       "      <td>0</td>\n",
       "      <td>0</td>\n",
       "      <td>0</td>\n",
       "      <td>0</td>\n",
       "      <td>0</td>\n",
       "    </tr>\n",
       "    <tr>\n",
       "      <th>1</th>\n",
       "      <td>2</td>\n",
       "      <td>Rotation Invariance Neural Network</td>\n",
       "      <td>Rotation invariance and translation invarian...</td>\n",
       "      <td>1</td>\n",
       "      <td>0</td>\n",
       "      <td>0</td>\n",
       "      <td>0</td>\n",
       "      <td>0</td>\n",
       "      <td>0</td>\n",
       "    </tr>\n",
       "    <tr>\n",
       "      <th>2</th>\n",
       "      <td>3</td>\n",
       "      <td>Spherical polyharmonics and Poisson kernels fo...</td>\n",
       "      <td>We introduce and develop the notion of spher...</td>\n",
       "      <td>0</td>\n",
       "      <td>0</td>\n",
       "      <td>1</td>\n",
       "      <td>0</td>\n",
       "      <td>0</td>\n",
       "      <td>0</td>\n",
       "    </tr>\n",
       "    <tr>\n",
       "      <th>3</th>\n",
       "      <td>4</td>\n",
       "      <td>A finite element approximation for the stochas...</td>\n",
       "      <td>The stochastic Landau--Lifshitz--Gilbert (LL...</td>\n",
       "      <td>0</td>\n",
       "      <td>0</td>\n",
       "      <td>1</td>\n",
       "      <td>0</td>\n",
       "      <td>0</td>\n",
       "      <td>0</td>\n",
       "    </tr>\n",
       "    <tr>\n",
       "      <th>4</th>\n",
       "      <td>5</td>\n",
       "      <td>Comparative study of Discrete Wavelet Transfor...</td>\n",
       "      <td>Fourier-transform infra-red (FTIR) spectra o...</td>\n",
       "      <td>1</td>\n",
       "      <td>0</td>\n",
       "      <td>0</td>\n",
       "      <td>1</td>\n",
       "      <td>0</td>\n",
       "      <td>0</td>\n",
       "    </tr>\n",
       "  </tbody>\n",
       "</table>\n",
       "</div>"
      ],
      "text/plain": [
       "   ID                                              TITLE  \\\n",
       "0   1        Reconstructing Subject-Specific Effect Maps   \n",
       "1   2                 Rotation Invariance Neural Network   \n",
       "2   3  Spherical polyharmonics and Poisson kernels fo...   \n",
       "3   4  A finite element approximation for the stochas...   \n",
       "4   5  Comparative study of Discrete Wavelet Transfor...   \n",
       "\n",
       "                                            ABSTRACT  Computer Science  \\\n",
       "0    Predictive models allow subject-specific inf...                 1   \n",
       "1    Rotation invariance and translation invarian...                 1   \n",
       "2    We introduce and develop the notion of spher...                 0   \n",
       "3    The stochastic Landau--Lifshitz--Gilbert (LL...                 0   \n",
       "4    Fourier-transform infra-red (FTIR) spectra o...                 1   \n",
       "\n",
       "   Physics  Mathematics  Statistics  Quantitative Biology  \\\n",
       "0        0            0           0                     0   \n",
       "1        0            0           0                     0   \n",
       "2        0            1           0                     0   \n",
       "3        0            1           0                     0   \n",
       "4        0            0           1                     0   \n",
       "\n",
       "   Quantitative Finance  \n",
       "0                     0  \n",
       "1                     0  \n",
       "2                     0  \n",
       "3                     0  \n",
       "4                     0  "
      ]
     },
     "execution_count": 2,
     "metadata": {},
     "output_type": "execute_result"
    }
   ],
   "source": [
    "df_defi_short = pd.read_excel(\"data/research_defs_GPTShort.xlsx\")\n",
    "df = pd.read_csv(\"data/text-classification-train.csv\")\n",
    "df.head()"
   ]
  },
  {
   "cell_type": "code",
   "execution_count": 3,
   "id": "b61bb4d0",
   "metadata": {},
   "outputs": [],
   "source": [
    "df_scores = pd.DataFrame()\n",
    "df_scores['abstract'] = df['ABSTRACT'][:200] # Make the labeled only the first 200\n",
    "\n",
    "computer_science = 1 # Identified as a CS research article\n",
    "ABSTAIN = 0 # Not identified as a CS research article\n",
    "\n",
    "i=0"
   ]
  },
  {
   "cell_type": "code",
   "execution_count": 4,
   "id": "4b29753a",
   "metadata": {},
   "outputs": [
    {
     "data": {
      "text/plain": [
       "'Computer Science explores the design and analysis of algorithms, computational systems, and data processing techniques. It covers both theoretical foundations, like algorithm complexity and cryptography, and practical applications, such as artificial intelligence, machine learning, and cybersecurity. This field drives technological innovation and solves complex problems across various sectors.'"
      ]
     },
     "execution_count": 4,
     "metadata": {},
     "output_type": "execute_result"
    }
   ],
   "source": [
    "df_defi_short['Definition'].iloc[i]"
   ]
  },
  {
   "cell_type": "markdown",
   "id": "fa575887",
   "metadata": {},
   "source": [
    "**Generate embedding for this definition with each model:**"
   ]
  },
  {
   "cell_type": "code",
   "execution_count": 17,
   "id": "e9b9d303",
   "metadata": {},
   "outputs": [
    {
     "name": "stderr",
     "output_type": "stream",
     "text": [
      "C:\\Users\\arnav\\AppData\\Local\\Programs\\Python\\Python311\\Lib\\site-packages\\huggingface_hub\\file_download.py:1132: FutureWarning: `resume_download` is deprecated and will be removed in version 1.0.0. Downloads always resume when possible. If you want to force a new download, use `force_download=True`.\n",
      "  warnings.warn(\n"
     ]
    }
   ],
   "source": [
    "# mixedbread-ai/mxbai-embed-large-v1\n",
    "embedder1 = SentenceTransformer(\"mixedbread-ai/mxbai-embed-large-v1\", truncate_dim=512)\n",
    "list_key1 = df_defi_short['Definition'].iloc[i]\n",
    "def_embedding1 = embedder1.encode(list_key1, convert_to_tensor=True)"
   ]
  },
  {
   "cell_type": "code",
   "execution_count": 5,
   "id": "aa0fb2ae",
   "metadata": {},
   "outputs": [
    {
     "name": "stderr",
     "output_type": "stream",
     "text": [
      "C:\\Users\\arnav\\AppData\\Local\\Programs\\Python\\Python311\\Lib\\site-packages\\huggingface_hub\\file_download.py:1132: FutureWarning: `resume_download` is deprecated and will be removed in version 1.0.0. Downloads always resume when possible. If you want to force a new download, use `force_download=True`.\n",
      "  warnings.warn(\n"
     ]
    }
   ],
   "source": [
    "# WhereIsAI/UAE-Large-V1\n",
    "embedder2 = SentenceTransformer(\"WhereIsAI/UAE-Large-V1\")\n",
    "list_key2 = df_defi_short['Definition'].iloc[i]\n",
    "def_embedding2 = embedder2.encode(list_key2, convert_to_tensor=True)"
   ]
  },
  {
   "cell_type": "code",
   "execution_count": 12,
   "id": "bf993a71",
   "metadata": {},
   "outputs": [],
   "source": [
    "# avsolatorio/GIST-large-Embedding-v0\n",
    "embedder3 = SentenceTransformer(\"avsolatorio/GIST-large-Embedding-v0\", revision=None)\n",
    "list_key3 = df_defi_short['Definition'].iloc[i]\n",
    "def_embedding3 = embedder3.encode(list_key3, convert_to_tensor=True)"
   ]
  },
  {
   "cell_type": "code",
   "execution_count": 17,
   "id": "57f5b38c",
   "metadata": {},
   "outputs": [],
   "source": [
    "# BAAI/bge-large-zh-v1.5\n",
    "embedder4 = SentenceTransformer(\"BAAI/bge-large-zh-v1.5\")\n",
    "list_key4 = df_defi_short['Definition'].iloc[i]\n",
    "def_embedding4 = embedder4.encode(list_key4, convert_to_tensor=True)"
   ]
  },
  {
   "cell_type": "markdown",
   "id": "8304c8f5",
   "metadata": {},
   "source": [
    "**Semantic similary score functions:**"
   ]
  },
  {
   "cell_type": "code",
   "execution_count": 13,
   "id": "a35d314b",
   "metadata": {},
   "outputs": [],
   "source": [
    "def lf_def_1_score(x):\n",
    "  dimensions = 512 \n",
    "  embedder = SentenceTransformer(\"mixedbread-ai/mxbai-embed-large-v1\", truncate_dim=dimensions)\n",
    "  corpus_embeddings = embedder.encode(x, convert_to_tensor=True)  \n",
    "  score = util.pytorch_cos_sim(def_embedding1, corpus_embeddings)[0]\n",
    "  return score\n",
    "\n",
    "def lf_def_2_score(x):\n",
    "  embedder = SentenceTransformer(\"WhereIsAI/UAE-Large-V1\")\n",
    "  corpus_embeddings = embedder.encode(x, convert_to_tensor=True)  \n",
    "  score = util.pytorch_cos_sim(def_embedding2, corpus_embeddings)[0]\n",
    "  return score\n",
    "\n",
    "def lf_def_3_score(x):\n",
    "  embedder = SentenceTransformer(\"avsolatorio/GIST-large-Embedding-v0\")\n",
    "  corpus_embeddings = embedder.encode(x, convert_to_tensor=True)  \n",
    "  score = util.pytorch_cos_sim(def_embedding3, corpus_embeddings)[0]\n",
    "  return score\n",
    "\n",
    "def lf_def_4_score(x):\n",
    "  embedder = SentenceTransformer(\"BAAI/bge-large-zh-v1.5\")\n",
    "  corpus_embeddings = embedder.encode(x, convert_to_tensor=True)  \n",
    "  score = util.pytorch_cos_sim(def_embedding4, corpus_embeddings)[0]\n",
    "  return score"
   ]
  },
  {
   "cell_type": "markdown",
   "id": "3e479ba3",
   "metadata": {},
   "source": [
    "**Generate scores:**"
   ]
  },
  {
   "cell_type": "code",
   "execution_count": null,
   "id": "8a73bb3a",
   "metadata": {},
   "outputs": [],
   "source": [
    "df_scores['LF_1_CS'] = df_scores['abstract'].apply(lf_def_1_score)"
   ]
  },
  {
   "cell_type": "code",
   "execution_count": 8,
   "id": "e46eaaf1",
   "metadata": {},
   "outputs": [],
   "source": [
    "df_scores['LF_2_CS'] = df_scores['abstract'].apply(lf_def_2_score)"
   ]
  },
  {
   "cell_type": "code",
   "execution_count": 14,
   "id": "2ef96f26",
   "metadata": {},
   "outputs": [],
   "source": [
    "df_scores['LF_3_CS'] = df_scores['abstract'].apply(lf_def_3_score)"
   ]
  },
  {
   "cell_type": "code",
   "execution_count": null,
   "id": "0ce5a9fc",
   "metadata": {},
   "outputs": [],
   "source": [
    "df_scores['LF_4_CS'] = df_scores['abstract'].apply(lf_def_4_score)"
   ]
  },
  {
   "cell_type": "markdown",
   "id": "d3b9452d",
   "metadata": {},
   "source": [
    "### Compute Snorkel labels"
   ]
  },
  {
   "cell_type": "code",
   "execution_count": 48,
   "id": "7a58d331",
   "metadata": {},
   "outputs": [
    {
     "data": {
      "text/html": [
       "<div>\n",
       "<style scoped>\n",
       "    .dataframe tbody tr th:only-of-type {\n",
       "        vertical-align: middle;\n",
       "    }\n",
       "\n",
       "    .dataframe tbody tr th {\n",
       "        vertical-align: top;\n",
       "    }\n",
       "\n",
       "    .dataframe thead th {\n",
       "        text-align: right;\n",
       "    }\n",
       "</style>\n",
       "<table border=\"1\" class=\"dataframe\">\n",
       "  <thead>\n",
       "    <tr style=\"text-align: right;\">\n",
       "      <th></th>\n",
       "      <th>abstract</th>\n",
       "      <th>LF_2_CS</th>\n",
       "      <th>LF_3_CS</th>\n",
       "      <th>LF_4_CS</th>\n",
       "      <th>LF_1_CS</th>\n",
       "    </tr>\n",
       "  </thead>\n",
       "  <tbody>\n",
       "    <tr>\n",
       "      <th>0</th>\n",
       "      <td>Predictive models allow subject-specific inf...</td>\n",
       "      <td>0.463427</td>\n",
       "      <td>0.356486</td>\n",
       "      <td>0.480531</td>\n",
       "      <td>0.4649</td>\n",
       "    </tr>\n",
       "    <tr>\n",
       "      <th>1</th>\n",
       "      <td>Rotation invariance and translation invarian...</td>\n",
       "      <td>0.493411</td>\n",
       "      <td>0.406379</td>\n",
       "      <td>0.427344</td>\n",
       "      <td>0.5205</td>\n",
       "    </tr>\n",
       "    <tr>\n",
       "      <th>2</th>\n",
       "      <td>We introduce and develop the notion of spher...</td>\n",
       "      <td>0.419345</td>\n",
       "      <td>0.278804</td>\n",
       "      <td>0.465437</td>\n",
       "      <td>0.4198</td>\n",
       "    </tr>\n",
       "    <tr>\n",
       "      <th>3</th>\n",
       "      <td>The stochastic Landau--Lifshitz--Gilbert (LL...</td>\n",
       "      <td>0.424636</td>\n",
       "      <td>0.309547</td>\n",
       "      <td>0.461731</td>\n",
       "      <td>0.4089</td>\n",
       "    </tr>\n",
       "    <tr>\n",
       "      <th>4</th>\n",
       "      <td>Fourier-transform infra-red (FTIR) spectra o...</td>\n",
       "      <td>0.478902</td>\n",
       "      <td>0.352449</td>\n",
       "      <td>0.476397</td>\n",
       "      <td>0.4624</td>\n",
       "    </tr>\n",
       "  </tbody>\n",
       "</table>\n",
       "</div>"
      ],
      "text/plain": [
       "                                            abstract   LF_2_CS   LF_3_CS  \\\n",
       "0    Predictive models allow subject-specific inf...  0.463427  0.356486   \n",
       "1    Rotation invariance and translation invarian...  0.493411  0.406379   \n",
       "2    We introduce and develop the notion of spher...  0.419345  0.278804   \n",
       "3    The stochastic Landau--Lifshitz--Gilbert (LL...  0.424636  0.309547   \n",
       "4    Fourier-transform infra-red (FTIR) spectra o...  0.478902  0.352449   \n",
       "\n",
       "    LF_4_CS  LF_1_CS  \n",
       "0  0.480531   0.4649  \n",
       "1  0.427344   0.5205  \n",
       "2  0.465437   0.4198  \n",
       "3  0.461731   0.4089  \n",
       "4  0.476397   0.4624  "
      ]
     },
     "execution_count": 48,
     "metadata": {},
     "output_type": "execute_result"
    }
   ],
   "source": [
    "df_scores = pd.read_csv(\"data/scores_CS_GPTShort.csv\")\n",
    "df_scores.head()"
   ]
  },
  {
   "cell_type": "code",
   "execution_count": 49,
   "id": "f82b3bf7",
   "metadata": {},
   "outputs": [],
   "source": [
    "df_labeled = pd.DataFrame()\n",
    "df_labeled['abstract'] = df_scores['abstract']"
   ]
  },
  {
   "cell_type": "code",
   "execution_count": 50,
   "id": "d6b76a69",
   "metadata": {},
   "outputs": [],
   "source": [
    "@labeling_function()\n",
    "def lf_def_1(x):\n",
    "  score = df_scores[df_scores['abstract'] == x['abstract']]['LF_1_CS'].values[0]\n",
    "  if score > 0.5:\n",
    "   return computer_science  \n",
    "  return ABSTAIN\n",
    "\n",
    "@labeling_function()\n",
    "def lf_def_2(x):\n",
    "  score = df_scores[df_scores['abstract'] == x['abstract']]['LF_2_CS'].values[0]\n",
    "  if score > 0.5:\n",
    "   return computer_science  \n",
    "  return ABSTAIN\n",
    "\n",
    "@labeling_function()\n",
    "def lf_def_3(x):\n",
    "  score = df_scores[df_scores['abstract'] == x['abstract']]['LF_3_CS'].values[0]\n",
    "  if score > 0.5:\n",
    "   return computer_science  \n",
    "  return ABSTAIN\n",
    "\n",
    "@labeling_function()\n",
    "def lf_def_4(x):\n",
    "  score = df_scores[df_scores['abstract'] == x['abstract']]['LF_4_CS'].values[0]\n",
    "  if score > 0.5:\n",
    "   return computer_science  \n",
    "  return ABSTAIN"
   ]
  },
  {
   "cell_type": "code",
   "execution_count": 51,
   "id": "26cdb6d6",
   "metadata": {},
   "outputs": [],
   "source": [
    "lfs = [lf_def_1, lf_def_2, lf_def_3, lf_def_4 ]"
   ]
  },
  {
   "cell_type": "code",
   "execution_count": 52,
   "id": "ad1154a9",
   "metadata": {},
   "outputs": [
    {
     "name": "stderr",
     "output_type": "stream",
     "text": [
      "100%|███████████████████████████████████████████████████████████████████████████████| 200/200 [00:00<00:00, 745.74it/s]\n"
     ]
    }
   ],
   "source": [
    "# Apply the LFs to the unlabeled training data\n",
    "applier = PandasLFApplier(lfs)\n",
    "L_train = applier.apply(df_labeled)"
   ]
  },
  {
   "cell_type": "code",
   "execution_count": 53,
   "id": "3c421983",
   "metadata": {},
   "outputs": [
    {
     "name": "stderr",
     "output_type": "stream",
     "text": [
      "INFO:root:Computing O...\n",
      "INFO:root:Estimating \\mu...\n",
      "  0%|                                                                                       | 0/500 [00:00<?, ?epoch/s]INFO:root:[0 epochs]: TRAIN:[loss=4.813]\n",
      "  7%|█████▍                                                                       | 35/500 [00:00<00:01, 348.83epoch/s]INFO:root:[100 epochs]: TRAIN:[loss=0.004]\n",
      " 25%|██████████████████▋                                                         | 123/500 [00:00<00:00, 658.76epoch/s]INFO:root:[200 epochs]: TRAIN:[loss=0.000]\n",
      " 59%|████████████████████████████████████████████▌                               | 293/500 [00:00<00:00, 773.58epoch/s]INFO:root:[300 epochs]: TRAIN:[loss=0.000]\n",
      " 75%|█████████████████████████████████████████████████████████▎                  | 377/500 [00:00<00:00, 789.63epoch/s]INFO:root:[400 epochs]: TRAIN:[loss=0.000]\n",
      "100%|████████████████████████████████████████████████████████████████████████████| 500/500 [00:00<00:00, 773.57epoch/s]\n",
      "INFO:root:Finished Training\n"
     ]
    }
   ],
   "source": [
    "# Initialize the LabelModel\n",
    "label_model = LabelModel(cardinality=2, verbose=True)\n",
    "\n",
    "# Train the LabelModel\n",
    "label_model.fit(L_train, n_epochs=500, log_freq=100, seed=123)"
   ]
  },
  {
   "cell_type": "code",
   "execution_count": 54,
   "id": "f099e930",
   "metadata": {},
   "outputs": [
    {
     "data": {
      "text/plain": [
       "array([0, 1, 0, 0, 0, 0, 0, 0, 0, 0, 0, 1, 0, 0, 0, 1, 0, 0, 0, 0, 1, 0,\n",
       "       0, 1, 0, 0, 0, 0, 0, 0, 0, 0, 0, 0, 0, 0, 0, 0, 0, 0, 0, 0, 0, 1,\n",
       "       1, 0, 0, 0, 0, 1, 1, 0, 1, 0, 1, 1, 0, 0, 0, 1, 0, 1, 0, 0, 0, 0,\n",
       "       0, 0, 0, 1, 0, 0, 0, 1, 0, 0, 0, 0, 0, 0, 1, 0, 0, 0, 1, 0, 0, 0,\n",
       "       0, 0, 0, 0, 0, 0, 0, 1, 0, 0, 0, 0, 0, 0, 0, 0, 0, 0, 0, 0, 0, 1,\n",
       "       0, 1, 0, 0, 0, 1, 0, 1, 0, 0, 0, 1, 0, 0, 1, 0, 0, 0, 0, 1, 1, 0,\n",
       "       0, 1, 0, 0, 0, 0, 0, 0, 0, 0, 0, 0, 0, 0, 0, 0, 0, 0, 1, 0, 0, 0,\n",
       "       0, 0, 0, 0, 0, 0, 0, 0, 1, 0, 0, 1, 0, 1, 0, 0, 1, 0, 0, 0, 0, 0,\n",
       "       0, 0, 1, 0, 0, 0, 0, 0, 1, 0, 0, 0, 0, 0, 0, 0, 0, 0, 0, 1, 0, 0,\n",
       "       0, 0])"
      ]
     },
     "execution_count": 54,
     "metadata": {},
     "output_type": "execute_result"
    }
   ],
   "source": [
    "# Get the predicted labels (y_train) for the data points\n",
    "y_train = label_model.predict(L=L_train)\n",
    "y_train"
   ]
  },
  {
   "cell_type": "code",
   "execution_count": 55,
   "id": "b61916fa",
   "metadata": {},
   "outputs": [],
   "source": [
    "df_scores['Snorkel_pred1'] = y_train"
   ]
  },
  {
   "cell_type": "markdown",
   "id": "2241d2fd",
   "metadata": {},
   "source": [
    "### Validating Snorkel\n",
    "We need to bring in the actual computer science results:"
   ]
  },
  {
   "cell_type": "code",
   "execution_count": 60,
   "id": "f6645fdb",
   "metadata": {},
   "outputs": [],
   "source": [
    "df = pd.read_csv(\"data/text-classification-train.csv\")"
   ]
  },
  {
   "cell_type": "code",
   "execution_count": 62,
   "id": "6bf6bc20",
   "metadata": {},
   "outputs": [],
   "source": [
    "df_scores['CS_actual'] = df['Computer Science'][:200]"
   ]
  },
  {
   "cell_type": "code",
   "execution_count": 63,
   "id": "2b7da134",
   "metadata": {},
   "outputs": [],
   "source": [
    "df = df_scores"
   ]
  },
  {
   "cell_type": "markdown",
   "id": "e8bc7ffe",
   "metadata": {},
   "source": [
    "**Checking common model metrics:**"
   ]
  },
  {
   "cell_type": "code",
   "execution_count": 64,
   "id": "3dec1aa4",
   "metadata": {},
   "outputs": [
    {
     "data": {
      "text/plain": [
       "<Axes: >"
      ]
     },
     "execution_count": 64,
     "metadata": {},
     "output_type": "execute_result"
    },
    {
     "data": {
      "image/png": "[encoded data removed]",
      "text/plain": [
       "<Figure size 640x480 with 2 Axes>"
      ]
     },
     "metadata": {},
     "output_type": "display_data"
    }
   ],
   "source": [
    "# Source: https://medium.com/@dtuk81/confusion-matrix-visualization-fc31e3f30fea\n",
    "\n",
    "from sklearn.metrics import confusion_matrix\n",
    "import seaborn as sns\n",
    "import numpy as np\n",
    "\n",
    "cm = confusion_matrix(df['CS_actual'], df['Snorkel_pred1'])\n",
    "\n",
    "group_names = ['True Neg','False Pos','False Neg','True Pos']\n",
    "group_counts = [\"{0:0.0f}\".format(value) for value in\n",
    "                cm.flatten()]\n",
    "group_percentages = [\"{0:.2%}\".format(value) for value in\n",
    "                     cm.flatten()/np.sum(cm)]\n",
    "labels = [f\"{v1}\\n{v2}\\n{v3}\" for v1, v2, v3 in\n",
    "          zip(group_names,group_counts,group_percentages)]\n",
    "labels = np.asarray(labels).reshape(2,2)\n",
    "\n",
    "sns.heatmap(cm, annot=labels, fmt=\"\", cmap='Blues')"
   ]
  },
  {
   "cell_type": "markdown",
   "id": "83a16c61",
   "metadata": {},
   "source": [
    "This model is slightly worse than the previous definition, but otherwise the same. Less true positives and true negatives, while around the same false negatives and more false positives.\n",
    "\n",
    "Let's take a look at four key metrics for classification models: recall, precision, accuracy, and F1-score"
   ]
  },
  {
   "cell_type": "code",
   "execution_count": 65,
   "id": "7945c212",
   "metadata": {},
   "outputs": [
    {
     "data": {
      "text/plain": [
       "0.66"
      ]
     },
     "execution_count": 65,
     "metadata": {},
     "output_type": "execute_result"
    }
   ],
   "source": [
    "tn = cm[0][0]\n",
    "fp = cm[0][1]\n",
    "fn = cm[1][0]\n",
    "tp = cm[1][1]\n",
    "\n",
    "# Accuracy: the percent of correctly classified data\n",
    "accuracy = (tn+tp)/(tn+fp+fn+tp)\n",
    "accuracy"
   ]
  },
  {
   "cell_type": "code",
   "execution_count": 66,
   "id": "ecdf186d",
   "metadata": {},
   "outputs": [
    {
     "data": {
      "text/plain": [
       "0.6388888888888888"
      ]
     },
     "execution_count": 66,
     "metadata": {},
     "output_type": "execute_result"
    }
   ],
   "source": [
    "# Precision: positive predictive value; of those predicted as CS documents, how many were actually CS documents?\n",
    "precision = (tp)/(tp+fp)\n",
    "precision"
   ]
  },
  {
   "cell_type": "code",
   "execution_count": 67,
   "id": "9264ad09",
   "metadata": {},
   "outputs": [
    {
     "data": {
      "text/plain": [
       "0.2948717948717949"
      ]
     },
     "execution_count": 67,
     "metadata": {},
     "output_type": "execute_result"
    }
   ],
   "source": [
    "# Recall: of those that were actually CS documents, how many were predicted as CS documents?\n",
    "recall = (tp)/(tp+fn)\n",
    "recall"
   ]
  },
  {
   "cell_type": "code",
   "execution_count": 68,
   "id": "07dd05ff",
   "metadata": {},
   "outputs": [
    {
     "data": {
      "text/plain": [
       "0.4035087719298245"
      ]
     },
     "execution_count": 68,
     "metadata": {},
     "output_type": "execute_result"
    }
   ],
   "source": [
    "# F1 score: tries to balance precision and recall, with uneven class distribution (large number of actual negs)\n",
    "f1 = 2*((precision*recall)/(precision+recall))\n",
    "f1"
   ]
  },
  {
   "cell_type": "code",
   "execution_count": 69,
   "id": "2465c215",
   "metadata": {},
   "outputs": [],
   "source": [
    "df.to_csv(\"snorkel_GPTShort_experiment.csv\")"
   ]
  },
  {
   "cell_type": "markdown",
   "id": "02b086df-1a4a-415a-8da6-2a32e13e76f7",
   "metadata": {},
   "source": [
    "## "
   ]
  }
 ],
 "metadata": {
  "kernelspec": {
   "display_name": "Python 3 (ipykernel)",
   "language": "python",
   "name": "python3"
  },
  "language_info": {
   "codemirror_mode": {
    "name": "ipython",
    "version": 3
   },
   "file_extension": ".py",
   "mimetype": "text/x-python",
   "name": "python",
   "nbconvert_exporter": "python",
   "pygments_lexer": "ipython3",
   "version": "3.12.4"
  }
 },
 "nbformat": 4,
 "nbformat_minor": 5
}
