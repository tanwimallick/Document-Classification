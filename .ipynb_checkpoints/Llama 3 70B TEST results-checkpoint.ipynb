{
 "cells": [
  {
   "cell_type": "markdown",
   "id": "d7692740-0cfa-4ce3-860c-711dc9606721",
   "metadata": {},
   "source": [
    "# Llama 3 70B Validation (test set)"
   ]
  },
  {
   "cell_type": "code",
   "execution_count": 1,
   "id": "014f1455-1ccc-4382-a427-01c07418deb7",
   "metadata": {},
   "outputs": [],
   "source": [
    "import pandas as pd"
   ]
  },
  {
   "cell_type": "code",
   "execution_count": 2,
   "id": "12cd2506-f741-422f-9425-6307e4c114f4",
   "metadata": {
    "scrolled": true
   },
   "outputs": [
    {
     "data": {
      "text/html": [
       "<div>\n",
       "<style scoped>\n",
       "    .dataframe tbody tr th:only-of-type {\n",
       "        vertical-align: middle;\n",
       "    }\n",
       "\n",
       "    .dataframe tbody tr th {\n",
       "        vertical-align: top;\n",
       "    }\n",
       "\n",
       "    .dataframe thead th {\n",
       "        text-align: right;\n",
       "    }\n",
       "</style>\n",
       "<table border=\"1\" class=\"dataframe\">\n",
       "  <thead>\n",
       "    <tr style=\"text-align: right;\">\n",
       "      <th></th>\n",
       "      <th>ID</th>\n",
       "      <th>TITLE</th>\n",
       "      <th>ABSTRACT</th>\n",
       "      <th>Computer Science</th>\n",
       "      <th>Physics</th>\n",
       "      <th>Mathematics</th>\n",
       "      <th>Statistics</th>\n",
       "      <th>Quantitative Biology</th>\n",
       "      <th>Quantitative Finance</th>\n",
       "      <th>Llama3_70B_QF</th>\n",
       "      <th>Llama3_70B_QB</th>\n",
       "      <th>Llama3_70B_Physics</th>\n",
       "      <th>Llama3_70B_CS</th>\n",
       "      <th>Llama3_70B_Math</th>\n",
       "      <th>Llama3_70B_Statistics</th>\n",
       "    </tr>\n",
       "  </thead>\n",
       "  <tbody>\n",
       "    <tr>\n",
       "      <th>0</th>\n",
       "      <td>475</td>\n",
       "      <td>Selecting optimal minimum spanning trees that ...</td>\n",
       "      <td>Choi et. al (2011) introduced a minimum span...</td>\n",
       "      <td>1</td>\n",
       "      <td>0</td>\n",
       "      <td>1</td>\n",
       "      <td>0</td>\n",
       "      <td>0</td>\n",
       "      <td>0</td>\n",
       "      <td>0</td>\n",
       "      <td>1</td>\n",
       "      <td>0</td>\n",
       "      <td>1</td>\n",
       "      <td>1</td>\n",
       "      <td>1</td>\n",
       "    </tr>\n",
       "    <tr>\n",
       "      <th>1</th>\n",
       "      <td>11242</td>\n",
       "      <td>A Markov Chain Model for the Cure Rate of Non-...</td>\n",
       "      <td>A Markov-chain model is developed for the pu...</td>\n",
       "      <td>0</td>\n",
       "      <td>0</td>\n",
       "      <td>0</td>\n",
       "      <td>1</td>\n",
       "      <td>0</td>\n",
       "      <td>1</td>\n",
       "      <td>1</td>\n",
       "      <td>0</td>\n",
       "      <td>0</td>\n",
       "      <td>0</td>\n",
       "      <td>1</td>\n",
       "      <td>1</td>\n",
       "    </tr>\n",
       "    <tr>\n",
       "      <th>2</th>\n",
       "      <td>649</td>\n",
       "      <td>On Popov's formula involving the Von Mangoldt ...</td>\n",
       "      <td>We offer a generalization of a formula of Po...</td>\n",
       "      <td>0</td>\n",
       "      <td>0</td>\n",
       "      <td>1</td>\n",
       "      <td>0</td>\n",
       "      <td>0</td>\n",
       "      <td>0</td>\n",
       "      <td>0</td>\n",
       "      <td>0</td>\n",
       "      <td>1</td>\n",
       "      <td>0</td>\n",
       "      <td>1</td>\n",
       "      <td>0</td>\n",
       "    </tr>\n",
       "    <tr>\n",
       "      <th>3</th>\n",
       "      <td>15325</td>\n",
       "      <td>Retirement spending and biological age</td>\n",
       "      <td>We solve a lifecycle model in which the cons...</td>\n",
       "      <td>0</td>\n",
       "      <td>0</td>\n",
       "      <td>0</td>\n",
       "      <td>0</td>\n",
       "      <td>0</td>\n",
       "      <td>1</td>\n",
       "      <td>1</td>\n",
       "      <td>0</td>\n",
       "      <td>0</td>\n",
       "      <td>0</td>\n",
       "      <td>0</td>\n",
       "      <td>0</td>\n",
       "    </tr>\n",
       "    <tr>\n",
       "      <th>4</th>\n",
       "      <td>1529</td>\n",
       "      <td>Social Network based Short-Term Stock Trading ...</td>\n",
       "      <td>This paper proposes a novel adaptive algorit...</td>\n",
       "      <td>1</td>\n",
       "      <td>0</td>\n",
       "      <td>0</td>\n",
       "      <td>0</td>\n",
       "      <td>0</td>\n",
       "      <td>1</td>\n",
       "      <td>1</td>\n",
       "      <td>0</td>\n",
       "      <td>0</td>\n",
       "      <td>1</td>\n",
       "      <td>0</td>\n",
       "      <td>1</td>\n",
       "    </tr>\n",
       "  </tbody>\n",
       "</table>\n",
       "</div>"
      ],
      "text/plain": [
       "      ID                                              TITLE  \\\n",
       "0    475  Selecting optimal minimum spanning trees that ...   \n",
       "1  11242  A Markov Chain Model for the Cure Rate of Non-...   \n",
       "2    649  On Popov's formula involving the Von Mangoldt ...   \n",
       "3  15325             Retirement spending and biological age   \n",
       "4   1529  Social Network based Short-Term Stock Trading ...   \n",
       "\n",
       "                                            ABSTRACT  Computer Science  \\\n",
       "0    Choi et. al (2011) introduced a minimum span...                 1   \n",
       "1    A Markov-chain model is developed for the pu...                 0   \n",
       "2    We offer a generalization of a formula of Po...                 0   \n",
       "3    We solve a lifecycle model in which the cons...                 0   \n",
       "4    This paper proposes a novel adaptive algorit...                 1   \n",
       "\n",
       "   Physics  Mathematics  Statistics  Quantitative Biology  \\\n",
       "0        0            1           0                     0   \n",
       "1        0            0           1                     0   \n",
       "2        0            1           0                     0   \n",
       "3        0            0           0                     0   \n",
       "4        0            0           0                     0   \n",
       "\n",
       "   Quantitative Finance  Llama3_70B_QF  Llama3_70B_QB  Llama3_70B_Physics  \\\n",
       "0                     0              0              1                   0   \n",
       "1                     1              1              0                   0   \n",
       "2                     0              0              0                   1   \n",
       "3                     1              1              0                   0   \n",
       "4                     1              1              0                   0   \n",
       "\n",
       "   Llama3_70B_CS  Llama3_70B_Math  Llama3_70B_Statistics  \n",
       "0              1                1                      1  \n",
       "1              0                1                      1  \n",
       "2              0                1                      0  \n",
       "3              0                0                      0  \n",
       "4              1                0                      1  "
      ]
     },
     "execution_count": 2,
     "metadata": {},
     "output_type": "execute_result"
    }
   ],
   "source": [
    "df = pd.read_csv(\"data/llama3_70b_test.csv\")\n",
    "df.head()"
   ]
  },
  {
   "cell_type": "markdown",
   "id": "b58cd726-3bf3-4150-b67e-ffb14b1a93a9",
   "metadata": {},
   "source": [
    "### Computer Science"
   ]
  },
  {
   "cell_type": "code",
   "execution_count": 3,
   "id": "c7782e11-147e-4973-b86b-a99ff64cf358",
   "metadata": {},
   "outputs": [
    {
     "data": {
      "text/plain": [
       "<Axes: >"
      ]
     },
     "execution_count": 3,
     "metadata": {},
     "output_type": "execute_result"
    },
    {
     "data": {
      "image/png": "[encoded data removed]",
      "text/plain": [
       "<Figure size 640x480 with 2 Axes>"
      ]
     },
     "metadata": {},
     "output_type": "display_data"
    }
   ],
   "source": [
    "# Source: https://medium.com/@dtuk81/confusion-matrix-visualization-fc31e3f30fea\n",
    "\n",
    "from sklearn.metrics import confusion_matrix\n",
    "import seaborn as sns\n",
    "import numpy as np\n",
    "\n",
    "cm = confusion_matrix(df['Computer Science'], df['Llama3_70B_CS'])\n",
    "\n",
    "group_names = ['True Neg','False Pos','False Neg','True Pos']\n",
    "group_counts = [\"{0:0.0f}\".format(value) for value in\n",
    "                cm.flatten()]\n",
    "group_percentages = [\"{0:.2%}\".format(value) for value in\n",
    "                     cm.flatten()/np.sum(cm)]\n",
    "labels = [f\"{v1}\\n{v2}\\n{v3}\" for v1, v2, v3 in\n",
    "          zip(group_names,group_counts,group_percentages)]\n",
    "labels = np.asarray(labels).reshape(2,2)\n",
    "\n",
    "sns.heatmap(cm, annot=labels, fmt=\"\", cmap='Blues')"
   ]
  },
  {
   "cell_type": "code",
   "execution_count": 4,
   "id": "3e91f2f0-b6e7-42c1-8a32-b905c914c707",
   "metadata": {},
   "outputs": [
    {
     "data": {
      "text/plain": [
       "0.784629981024668"
      ]
     },
     "execution_count": 4,
     "metadata": {},
     "output_type": "execute_result"
    }
   ],
   "source": [
    "tn = cm[0][0]\n",
    "fp = cm[0][1]\n",
    "fn = cm[1][0]\n",
    "tp = cm[1][1]\n",
    "\n",
    "# Accuracy: the percent of correctly classified data\n",
    "accuracy = (tn+tp)/(tn+fp+fn+tp)\n",
    "accuracy"
   ]
  },
  {
   "cell_type": "code",
   "execution_count": 5,
   "id": "f3f1fefd-3e3d-49d4-91cb-00ce457ad712",
   "metadata": {},
   "outputs": [
    {
     "data": {
      "text/plain": [
       "0.5538461538461539"
      ]
     },
     "execution_count": 5,
     "metadata": {},
     "output_type": "execute_result"
    }
   ],
   "source": [
    "# Precision: positive predictive value; of those predicted as CS documents, how many were actually CS documents?\n",
    "precision = (tp)/(tp+fp)\n",
    "precision"
   ]
  },
  {
   "cell_type": "code",
   "execution_count": 6,
   "id": "ca78cfab-e2b4-4b5a-a10d-a144789d01b5",
   "metadata": {},
   "outputs": [
    {
     "data": {
      "text/plain": [
       "0.9130434782608695"
      ]
     },
     "execution_count": 6,
     "metadata": {},
     "output_type": "execute_result"
    }
   ],
   "source": [
    "# Recall: of those that were actually CS documents, how many were predicted as CS documents?\n",
    "recall = (tp)/(tp+fn)\n",
    "recall"
   ]
  },
  {
   "cell_type": "code",
   "execution_count": 7,
   "id": "91afd2c0-a7fa-4e3b-a185-594cdb177c9e",
   "metadata": {},
   "outputs": [
    {
     "data": {
      "text/plain": [
       "0.689466484268126"
      ]
     },
     "execution_count": 7,
     "metadata": {},
     "output_type": "execute_result"
    }
   ],
   "source": [
    "# F1 score: tries to balance precision and recall, with uneven class distribution (large number of actual negs)\n",
    "f1 = 2*((precision*recall)/(precision+recall))\n",
    "f1"
   ]
  },
  {
   "cell_type": "markdown",
   "id": "9be77d10-1a49-4f2b-aa52-763d59f592e9",
   "metadata": {},
   "source": [
    "**Misclassification analysis**"
   ]
  },
  {
   "cell_type": "code",
   "execution_count": 8,
   "id": "666e6ece-9755-4035-8028-2d4a03616205",
   "metadata": {},
   "outputs": [
    {
     "data": {
      "text/plain": [
       "0.8942731277533039"
      ]
     },
     "execution_count": 8,
     "metadata": {},
     "output_type": "execute_result"
    }
   ],
   "source": [
    "fp_rate = fp/(fp+fn)\n",
    "fp_rate"
   ]
  },
  {
   "cell_type": "code",
   "execution_count": 9,
   "id": "23852fa1-80d5-4a24-81d5-1e5294808578",
   "metadata": {},
   "outputs": [
    {
     "data": {
      "text/plain": [
       "Mathematics             30\n",
       "Physics                 13\n",
       "Statistics              94\n",
       "Quantitative Biology    69\n",
       "Quantitative Finance    45\n",
       "dtype: int64"
      ]
     },
     "execution_count": 9,
     "metadata": {},
     "output_type": "execute_result"
    }
   ],
   "source": [
    "fp_cs = df[(df[\"Llama3_70B_CS\"] == 1) & (df[\"Computer Science\"] == 0)]\n",
    "fp_cs[['Mathematics', 'Physics', 'Statistics', 'Quantitative Biology', 'Quantitative Finance']].sum()"
   ]
  },
  {
   "cell_type": "markdown",
   "id": "8fea52bb-a054-47a7-a990-cfc3ae299ced",
   "metadata": {},
   "source": [
    "### Physics"
   ]
  },
  {
   "cell_type": "code",
   "execution_count": 10,
   "id": "fa26b4ec-25d2-434c-a179-7fd26676a60d",
   "metadata": {},
   "outputs": [
    {
     "data": {
      "text/plain": [
       "<Axes: >"
      ]
     },
     "execution_count": 10,
     "metadata": {},
     "output_type": "execute_result"
    },
    {
     "data": {
      "image/png": "[encoded data removed]",
      "text/plain": [
       "<Figure size 640x480 with 2 Axes>"
      ]
     },
     "metadata": {},
     "output_type": "display_data"
    }
   ],
   "source": [
    "# Source: https://medium.com/@dtuk81/confusion-matrix-visualization-fc31e3f30fea\n",
    "\n",
    "from sklearn.metrics import confusion_matrix\n",
    "import seaborn as sns\n",
    "import numpy as np\n",
    "\n",
    "cm = confusion_matrix(df['Physics'], df['Llama3_70B_Physics'])\n",
    "\n",
    "group_names = ['True Neg','False Pos','False Neg','True Pos']\n",
    "group_counts = [\"{0:0.0f}\".format(value) for value in\n",
    "                cm.flatten()]\n",
    "group_percentages = [\"{0:.2%}\".format(value) for value in\n",
    "                     cm.flatten()/np.sum(cm)]\n",
    "labels = [f\"{v1}\\n{v2}\\n{v3}\" for v1, v2, v3 in\n",
    "          zip(group_names,group_counts,group_percentages)]\n",
    "labels = np.asarray(labels).reshape(2,2)\n",
    "\n",
    "sns.heatmap(cm, annot=labels, fmt=\"\", cmap='Blues')"
   ]
  },
  {
   "cell_type": "code",
   "execution_count": 11,
   "id": "858e26d2-1eb3-49d7-b231-d5157dfdf8a2",
   "metadata": {},
   "outputs": [
    {
     "data": {
      "text/plain": [
       "0.8567362428842504"
      ]
     },
     "execution_count": 11,
     "metadata": {},
     "output_type": "execute_result"
    }
   ],
   "source": [
    "tn = cm[0][0]\n",
    "fp = cm[0][1]\n",
    "fn = cm[1][0]\n",
    "tp = cm[1][1]\n",
    "\n",
    "# Accuracy: the percent of correctly classified data\n",
    "accuracy = (tn+tp)/(tn+fp+fn+tp)\n",
    "accuracy"
   ]
  },
  {
   "cell_type": "code",
   "execution_count": 10,
   "id": "6b7e70d0-862e-4b2c-946a-85f0b128e92d",
   "metadata": {},
   "outputs": [
    {
     "data": {
      "text/plain": [
       "0.5811688311688312"
      ]
     },
     "execution_count": 10,
     "metadata": {},
     "output_type": "execute_result"
    }
   ],
   "source": [
    "# Precision: positive predictive value; of those predicted as CS documents, how many were actually CS documents?\n",
    "precision = (tp)/(tp+fp)\n",
    "precision"
   ]
  },
  {
   "cell_type": "code",
   "execution_count": 11,
   "id": "8f432e9e-34b1-4e61-a3c6-8b19e3a5955e",
   "metadata": {},
   "outputs": [
    {
     "data": {
      "text/plain": [
       "0.8905472636815921"
      ]
     },
     "execution_count": 11,
     "metadata": {},
     "output_type": "execute_result"
    }
   ],
   "source": [
    "# Recall: of those that were actually CS documents, how many were predicted as CS documents?\n",
    "recall = (tp)/(tp+fn)\n",
    "recall"
   ]
  },
  {
   "cell_type": "code",
   "execution_count": 12,
   "id": "c949e352-7b6c-4156-9618-a254fd8cadd5",
   "metadata": {},
   "outputs": [
    {
     "data": {
      "text/plain": [
       "0.7033398821218075"
      ]
     },
     "execution_count": 12,
     "metadata": {},
     "output_type": "execute_result"
    }
   ],
   "source": [
    "# F1 score: tries to balance precision and recall, with uneven class distribution (large number of actual negs)\n",
    "f1 = 2*((precision*recall)/(precision+recall))\n",
    "f1"
   ]
  },
  {
   "cell_type": "markdown",
   "id": "ff4fbac7-524b-48b5-a216-68720c9ee997",
   "metadata": {},
   "source": [
    "**Misclassification analysis**"
   ]
  },
  {
   "cell_type": "code",
   "execution_count": 12,
   "id": "c40a8e01-284b-4296-bcf0-a978ba99f07a",
   "metadata": {},
   "outputs": [
    {
     "data": {
      "text/plain": [
       "0.8543046357615894"
      ]
     },
     "execution_count": 12,
     "metadata": {},
     "output_type": "execute_result"
    }
   ],
   "source": [
    "fp_rate = fp/(fp+fn)\n",
    "fp_rate"
   ]
  },
  {
   "cell_type": "code",
   "execution_count": 13,
   "id": "5a6cd6b0-b5dc-42b6-9d34-334985f6d950",
   "metadata": {},
   "outputs": [
    {
     "data": {
      "text/plain": [
       "Mathematics             65\n",
       "Computer Science        30\n",
       "Statistics              19\n",
       "Quantitative Biology    26\n",
       "Quantitative Finance    11\n",
       "dtype: int64"
      ]
     },
     "execution_count": 13,
     "metadata": {},
     "output_type": "execute_result"
    }
   ],
   "source": [
    "fp_cs = df[(df[\"Llama3_70B_Physics\"] == 1) & (df[\"Physics\"] == 0)]\n",
    "fp_cs[['Mathematics', 'Computer Science', 'Statistics', 'Quantitative Biology', 'Quantitative Finance']].sum()"
   ]
  },
  {
   "cell_type": "markdown",
   "id": "ca499809-d1ee-4758-ace8-022a52a50574",
   "metadata": {},
   "source": [
    "### Mathematics"
   ]
  },
  {
   "cell_type": "code",
   "execution_count": 14,
   "id": "fbe5059e-dad9-4b96-87d9-294a254dbbf4",
   "metadata": {},
   "outputs": [
    {
     "data": {
      "text/plain": [
       "<Axes: >"
      ]
     },
     "execution_count": 14,
     "metadata": {},
     "output_type": "execute_result"
    },
    {
     "data": {
      "image/png": "[encoded data removed]",
      "text/plain": [
       "<Figure size 640x480 with 2 Axes>"
      ]
     },
     "metadata": {},
     "output_type": "display_data"
    }
   ],
   "source": [
    "# Source: https://medium.com/@dtuk81/confusion-matrix-visualization-fc31e3f30fea\n",
    "\n",
    "from sklearn.metrics import confusion_matrix\n",
    "import seaborn as sns\n",
    "import numpy as np\n",
    "\n",
    "cm = confusion_matrix(df['Mathematics'], df['Llama3_70B_Math'])\n",
    "\n",
    "group_names = ['True Neg','False Pos','False Neg','True Pos']\n",
    "group_counts = [\"{0:0.0f}\".format(value) for value in\n",
    "                cm.flatten()]\n",
    "group_percentages = [\"{0:.2%}\".format(value) for value in\n",
    "                     cm.flatten()/np.sum(cm)]\n",
    "labels = [f\"{v1}\\n{v2}\\n{v3}\" for v1, v2, v3 in\n",
    "          zip(group_names,group_counts,group_percentages)]\n",
    "labels = np.asarray(labels).reshape(2,2)\n",
    "\n",
    "sns.heatmap(cm, annot=labels, fmt=\"\", cmap='Blues')"
   ]
  },
  {
   "cell_type": "code",
   "execution_count": 15,
   "id": "42d98ae2-a71b-460a-8fe8-c0e081fef019",
   "metadata": {},
   "outputs": [
    {
     "data": {
      "text/plain": [
       "0.7163187855787476"
      ]
     },
     "execution_count": 15,
     "metadata": {},
     "output_type": "execute_result"
    }
   ],
   "source": [
    "tn = cm[0][0]\n",
    "fp = cm[0][1]\n",
    "fn = cm[1][0]\n",
    "tp = cm[1][1]\n",
    "\n",
    "# Accuracy: the percent of correctly classified data\n",
    "accuracy = (tn+tp)/(tn+fp+fn+tp)\n",
    "accuracy"
   ]
  },
  {
   "cell_type": "code",
   "execution_count": 16,
   "id": "0f0b7235-b6e0-44bf-816d-c2134c797e70",
   "metadata": {},
   "outputs": [
    {
     "data": {
      "text/plain": [
       "0.3978494623655914"
      ]
     },
     "execution_count": 16,
     "metadata": {},
     "output_type": "execute_result"
    }
   ],
   "source": [
    "# Precision: positive predictive value; of those predicted as CS documents, how many were actually CS documents?\n",
    "precision = (tp)/(tp+fp)\n",
    "precision"
   ]
  },
  {
   "cell_type": "code",
   "execution_count": 17,
   "id": "b7a0155c-bd02-48ac-99ed-afd5062e8fef",
   "metadata": {},
   "outputs": [
    {
     "data": {
      "text/plain": [
       "0.9068627450980392"
      ]
     },
     "execution_count": 17,
     "metadata": {},
     "output_type": "execute_result"
    }
   ],
   "source": [
    "# Recall: of those that were actually CS documents, how many were predicted as CS documents?\n",
    "recall = (tp)/(tp+fn)\n",
    "recall"
   ]
  },
  {
   "cell_type": "code",
   "execution_count": 18,
   "id": "12a307d5-c6a6-4c68-92b6-d4f13c192570",
   "metadata": {},
   "outputs": [
    {
     "data": {
      "text/plain": [
       "0.5530642750373692"
      ]
     },
     "execution_count": 18,
     "metadata": {},
     "output_type": "execute_result"
    }
   ],
   "source": [
    "# F1 score: tries to balance precision and recall, with uneven class distribution (large number of actual negs)\n",
    "f1 = 2*((precision*recall)/(precision+recall))\n",
    "f1"
   ]
  },
  {
   "cell_type": "markdown",
   "id": "00b8f81a-95e6-4a1d-8bed-cba08f1c7f4c",
   "metadata": {},
   "source": [
    "**Misclassification analysis**"
   ]
  },
  {
   "cell_type": "code",
   "execution_count": 16,
   "id": "b3531b20-b6f4-4301-a00c-fc94ca9cf6fb",
   "metadata": {},
   "outputs": [
    {
     "data": {
      "text/plain": [
       "0.9364548494983278"
      ]
     },
     "execution_count": 16,
     "metadata": {},
     "output_type": "execute_result"
    }
   ],
   "source": [
    "fp_rate = fp/(fp+fn)\n",
    "fp_rate"
   ]
  },
  {
   "cell_type": "code",
   "execution_count": 17,
   "id": "cf48baf0-acf5-4f17-bd5e-2fe3372bc0f7",
   "metadata": {},
   "outputs": [
    {
     "data": {
      "text/plain": [
       "Computer Science         74\n",
       "Physics                  37\n",
       "Statistics               68\n",
       "Quantitative Biology     59\n",
       "Quantitative Finance    102\n",
       "dtype: int64"
      ]
     },
     "execution_count": 17,
     "metadata": {},
     "output_type": "execute_result"
    }
   ],
   "source": [
    "fp_cs = df[(df[\"Llama3_70B_Math\"] == 1) & (df[\"Mathematics\"] == 0)]\n",
    "fp_cs[['Computer Science', 'Physics', 'Statistics', 'Quantitative Biology', 'Quantitative Finance']].sum()"
   ]
  },
  {
   "cell_type": "markdown",
   "id": "656cd98b-6272-44d5-9fe8-9b45e665f85c",
   "metadata": {},
   "source": [
    "### Statistics"
   ]
  },
  {
   "cell_type": "code",
   "execution_count": 18,
   "id": "3447fcb5-a252-4190-ac96-63a1650610d7",
   "metadata": {},
   "outputs": [
    {
     "data": {
      "text/plain": [
       "<Axes: >"
      ]
     },
     "execution_count": 18,
     "metadata": {},
     "output_type": "execute_result"
    },
    {
     "data": {
      "image/png": "[encoded data removed]",
      "text/plain": [
       "<Figure size 640x480 with 2 Axes>"
      ]
     },
     "metadata": {},
     "output_type": "display_data"
    }
   ],
   "source": [
    "# Source: https://medium.com/@dtuk81/confusion-matrix-visualization-fc31e3f30fea\n",
    "\n",
    "from sklearn.metrics import confusion_matrix\n",
    "import seaborn as sns\n",
    "import numpy as np\n",
    "\n",
    "cm = confusion_matrix(df['Statistics'], df['Llama3_70B_Statistics'])\n",
    "\n",
    "group_names = ['True Neg','False Pos','False Neg','True Pos']\n",
    "group_counts = [\"{0:0.0f}\".format(value) for value in\n",
    "                cm.flatten()]\n",
    "group_percentages = [\"{0:.2%}\".format(value) for value in\n",
    "                     cm.flatten()/np.sum(cm)]\n",
    "labels = [f\"{v1}\\n{v2}\\n{v3}\" for v1, v2, v3 in\n",
    "          zip(group_names,group_counts,group_percentages)]\n",
    "labels = np.asarray(labels).reshape(2,2)\n",
    "\n",
    "sns.heatmap(cm, annot=labels, fmt=\"\", cmap='Blues')"
   ]
  },
  {
   "cell_type": "code",
   "execution_count": 19,
   "id": "ee7b834f-4631-472f-a4b9-6ead48abd6d6",
   "metadata": {},
   "outputs": [
    {
     "data": {
      "text/plain": [
       "0.7248576850094877"
      ]
     },
     "execution_count": 19,
     "metadata": {},
     "output_type": "execute_result"
    }
   ],
   "source": [
    "tn = cm[0][0]\n",
    "fp = cm[0][1]\n",
    "fn = cm[1][0]\n",
    "tp = cm[1][1]\n",
    "\n",
    "# Accuracy: the percent of correctly classified data\n",
    "accuracy = (tn+tp)/(tn+fp+fn+tp)\n",
    "accuracy"
   ]
  },
  {
   "cell_type": "code",
   "execution_count": 20,
   "id": "da863423-cf4c-4fe9-a120-fa29fdc7780e",
   "metadata": {},
   "outputs": [
    {
     "data": {
      "text/plain": [
       "0.4519906323185012"
      ]
     },
     "execution_count": 20,
     "metadata": {},
     "output_type": "execute_result"
    }
   ],
   "source": [
    "# Precision: positive predictive value; of those predicted as CS documents, how many were actually CS documents?\n",
    "precision = (tp)/(tp+fp)\n",
    "precision"
   ]
  },
  {
   "cell_type": "code",
   "execution_count": 21,
   "id": "6563faca-4aa4-4790-9375-356d111b35ca",
   "metadata": {},
   "outputs": [
    {
     "data": {
      "text/plain": [
       "0.7751004016064257"
      ]
     },
     "execution_count": 21,
     "metadata": {},
     "output_type": "execute_result"
    }
   ],
   "source": [
    "# Recall: of those that were actually CS documents, how many were predicted as CS documents?\n",
    "recall = (tp)/(tp+fn)\n",
    "recall"
   ]
  },
  {
   "cell_type": "code",
   "execution_count": 22,
   "id": "31b11d27-8f00-49e0-b7e4-9ded4f7f27b6",
   "metadata": {},
   "outputs": [
    {
     "data": {
      "text/plain": [
       "0.5710059171597633"
      ]
     },
     "execution_count": 22,
     "metadata": {},
     "output_type": "execute_result"
    }
   ],
   "source": [
    "# F1 score: tries to balance precision and recall, with uneven class distribution (large number of actual negs)\n",
    "f1 = 2*((precision*recall)/(precision+recall))\n",
    "f1"
   ]
  },
  {
   "cell_type": "markdown",
   "id": "f5aab4c9-c4e0-4402-9dad-aac0db4c792c",
   "metadata": {},
   "source": [
    "**Misclassification analysis**"
   ]
  },
  {
   "cell_type": "code",
   "execution_count": 23,
   "id": "26e428a4-910f-4483-b193-6f87e2ab7557",
   "metadata": {},
   "outputs": [
    {
     "data": {
      "text/plain": [
       "0.8068965517241379"
      ]
     },
     "execution_count": 23,
     "metadata": {},
     "output_type": "execute_result"
    }
   ],
   "source": [
    "fp_rate = fp/(fp+fn)\n",
    "fp_rate"
   ]
  },
  {
   "cell_type": "code",
   "execution_count": 24,
   "id": "408d5a2a-5480-43d2-bf03-514441c4d7f8",
   "metadata": {},
   "outputs": [
    {
     "data": {
      "text/plain": [
       "Mathematics              34\n",
       "Physics                  22\n",
       "Computer Science         46\n",
       "Quantitative Biology     56\n",
       "Quantitative Finance    101\n",
       "dtype: int64"
      ]
     },
     "execution_count": 24,
     "metadata": {},
     "output_type": "execute_result"
    }
   ],
   "source": [
    "fp_cs = df[(df[\"Llama3_70B_Statistics\"] == 1) & (df[\"Statistics\"] == 0)]\n",
    "fp_cs[['Mathematics', 'Physics', 'Computer Science', 'Quantitative Biology', 'Quantitative Finance']].sum()"
   ]
  },
  {
   "cell_type": "markdown",
   "id": "41389ac4-be05-40be-a1f7-261fb0b020f1",
   "metadata": {},
   "source": [
    "### Quantitative Biology"
   ]
  },
  {
   "cell_type": "code",
   "execution_count": 25,
   "id": "e28d757c-fae5-4978-a955-2f9036c5b67d",
   "metadata": {},
   "outputs": [
    {
     "data": {
      "text/plain": [
       "<Axes: >"
      ]
     },
     "execution_count": 25,
     "metadata": {},
     "output_type": "execute_result"
    },
    {
     "data": {
      "image/png": "[encoded data removed]",
      "text/plain": [
       "<Figure size 640x480 with 2 Axes>"
      ]
     },
     "metadata": {},
     "output_type": "display_data"
    }
   ],
   "source": [
    "# Source: https://medium.com/@dtuk81/confusion-matrix-visualization-fc31e3f30fea\n",
    "\n",
    "from sklearn.metrics import confusion_matrix\n",
    "import seaborn as sns\n",
    "import numpy as np\n",
    "\n",
    "cm = confusion_matrix(df['Quantitative Biology'], df['Llama3_70B_QB'])\n",
    "\n",
    "group_names = ['True Neg','False Pos','False Neg','True Pos']\n",
    "group_counts = [\"{0:0.0f}\".format(value) for value in\n",
    "                cm.flatten()]\n",
    "group_percentages = [\"{0:.2%}\".format(value) for value in\n",
    "                     cm.flatten()/np.sum(cm)]\n",
    "labels = [f\"{v1}\\n{v2}\\n{v3}\" for v1, v2, v3 in\n",
    "          zip(group_names,group_counts,group_percentages)]\n",
    "labels = np.asarray(labels).reshape(2,2)\n",
    "\n",
    "sns.heatmap(cm, annot=labels, fmt=\"\", cmap='Blues')"
   ]
  },
  {
   "cell_type": "code",
   "execution_count": 26,
   "id": "f6fae6cd-e1f7-46e6-97b3-fc8ec704e702",
   "metadata": {},
   "outputs": [
    {
     "data": {
      "text/plain": [
       "0.6821631878557874"
      ]
     },
     "execution_count": 26,
     "metadata": {},
     "output_type": "execute_result"
    }
   ],
   "source": [
    "tn = cm[0][0]\n",
    "fp = cm[0][1]\n",
    "fn = cm[1][0]\n",
    "tp = cm[1][1]\n",
    "\n",
    "# Accuracy: the percent of correctly classified data\n",
    "accuracy = (tn+tp)/(tn+fp+fn+tp)\n",
    "accuracy"
   ]
  },
  {
   "cell_type": "code",
   "execution_count": 27,
   "id": "d93562a5-8615-4088-850f-cd5fe9e19821",
   "metadata": {},
   "outputs": [
    {
     "data": {
      "text/plain": [
       "0.36633663366336633"
      ]
     },
     "execution_count": 27,
     "metadata": {},
     "output_type": "execute_result"
    }
   ],
   "source": [
    "# Precision: positive predictive value; of those predicted as CS documents, how many were actually CS documents?\n",
    "precision = (tp)/(tp+fp)\n",
    "precision"
   ]
  },
  {
   "cell_type": "code",
   "execution_count": 28,
   "id": "5c611947-b615-4b25-ab34-16e1203043b9",
   "metadata": {},
   "outputs": [
    {
     "data": {
      "text/plain": [
       "0.925"
      ]
     },
     "execution_count": 28,
     "metadata": {},
     "output_type": "execute_result"
    }
   ],
   "source": [
    "# Recall: of those that were actually CS documents, how many were predicted as CS documents?\n",
    "recall = (tp)/(tp+fn)\n",
    "recall"
   ]
  },
  {
   "cell_type": "code",
   "execution_count": 29,
   "id": "9184a11e-a305-4e69-b874-449333e2be07",
   "metadata": {},
   "outputs": [
    {
     "data": {
      "text/plain": [
       "0.524822695035461"
      ]
     },
     "execution_count": 29,
     "metadata": {},
     "output_type": "execute_result"
    }
   ],
   "source": [
    "# F1 score: tries to balance precision and recall, with uneven class distribution (large number of actual negs)\n",
    "f1 = 2*((precision*recall)/(precision+recall))\n",
    "f1"
   ]
  },
  {
   "cell_type": "markdown",
   "id": "63d36856-ed78-4dea-b011-b049f27edc1c",
   "metadata": {},
   "source": [
    "**Misclassification analysis**"
   ]
  },
  {
   "cell_type": "code",
   "execution_count": 27,
   "id": "7bd160a3-e58a-4ede-a113-2000f4b9a060",
   "metadata": {},
   "outputs": [
    {
     "data": {
      "text/plain": [
       "0.9552238805970149"
      ]
     },
     "execution_count": 27,
     "metadata": {},
     "output_type": "execute_result"
    }
   ],
   "source": [
    "fp_rate = fp/(fp+fn)\n",
    "fp_rate"
   ]
  },
  {
   "cell_type": "code",
   "execution_count": 28,
   "id": "d11c2416-7d7f-494f-aba9-3335b91ca9f5",
   "metadata": {},
   "outputs": [
    {
     "data": {
      "text/plain": [
       "Mathematics              65\n",
       "Physics                 114\n",
       "Statistics               99\n",
       "Computer Science         89\n",
       "Quantitative Finance     53\n",
       "dtype: int64"
      ]
     },
     "execution_count": 28,
     "metadata": {},
     "output_type": "execute_result"
    }
   ],
   "source": [
    "fp_cs = df[(df[\"Llama3_70B_QB\"] == 1) & (df[\"Quantitative Biology\"] == 0)]\n",
    "fp_cs[['Mathematics', 'Physics', 'Statistics', 'Computer Science', 'Quantitative Finance']].sum()"
   ]
  },
  {
   "cell_type": "markdown",
   "id": "85c43b89-2ebd-42e6-87e7-25a157d36b42",
   "metadata": {},
   "source": [
    "### Quantitative Finance"
   ]
  },
  {
   "cell_type": "code",
   "execution_count": 29,
   "id": "746b455f-d148-4c44-a8c1-daccdb39178a",
   "metadata": {},
   "outputs": [
    {
     "data": {
      "text/plain": [
       "<Axes: >"
      ]
     },
     "execution_count": 29,
     "metadata": {},
     "output_type": "execute_result"
    },
    {
     "data": {
      "image/png": "[encoded data removed]",
      "text/plain": [
       "<Figure size 640x480 with 2 Axes>"
      ]
     },
     "metadata": {},
     "output_type": "display_data"
    }
   ],
   "source": [
    "# Source: https://medium.com/@dtuk81/confusion-matrix-visualization-fc31e3f30fea\n",
    "\n",
    "from sklearn.metrics import confusion_matrix\n",
    "import seaborn as sns\n",
    "import numpy as np\n",
    "\n",
    "cm = confusion_matrix(df['Quantitative Finance'], df['Llama3_70B_QF'])\n",
    "\n",
    "group_names = ['True Neg','False Pos','False Neg','True Pos']\n",
    "group_counts = [\"{0:0.0f}\".format(value) for value in\n",
    "                cm.flatten()]\n",
    "group_percentages = [\"{0:.2%}\".format(value) for value in\n",
    "                     cm.flatten()/np.sum(cm)]\n",
    "labels = [f\"{v1}\\n{v2}\\n{v3}\" for v1, v2, v3 in\n",
    "          zip(group_names,group_counts,group_percentages)]\n",
    "labels = np.asarray(labels).reshape(2,2)\n",
    "\n",
    "sns.heatmap(cm, annot=labels, fmt=\"\", cmap='Blues')"
   ]
  },
  {
   "cell_type": "code",
   "execution_count": 30,
   "id": "7064aec6-d378-4c62-bd56-87ad3d562bc8",
   "metadata": {},
   "outputs": [
    {
     "data": {
      "text/plain": [
       "0.9231499051233396"
      ]
     },
     "execution_count": 30,
     "metadata": {},
     "output_type": "execute_result"
    }
   ],
   "source": [
    "tn = cm[0][0]\n",
    "fp = cm[0][1]\n",
    "fn = cm[1][0]\n",
    "tp = cm[1][1]\n",
    "\n",
    "# Accuracy: the percent of correctly classified data\n",
    "accuracy = (tn+tp)/(tn+fp+fn+tp)\n",
    "accuracy"
   ]
  },
  {
   "cell_type": "code",
   "execution_count": 31,
   "id": "5e706ae2-e94e-4826-9a65-bff1aa88460f",
   "metadata": {},
   "outputs": [
    {
     "data": {
      "text/plain": [
       "0.7668161434977578"
      ]
     },
     "execution_count": 31,
     "metadata": {},
     "output_type": "execute_result"
    }
   ],
   "source": [
    "# Precision: positive predictive value; of those predicted as CS documents, how many were actually CS documents?\n",
    "precision = (tp)/(tp+fp)\n",
    "precision"
   ]
  },
  {
   "cell_type": "code",
   "execution_count": 32,
   "id": "35d66e43-c0d6-4c3d-8bd8-f95b336992ac",
   "metadata": {},
   "outputs": [
    {
     "data": {
      "text/plain": [
       "0.855"
      ]
     },
     "execution_count": 32,
     "metadata": {},
     "output_type": "execute_result"
    }
   ],
   "source": [
    "# Recall: of those that were actually CS documents, how many were predicted as CS documents?\n",
    "recall = (tp)/(tp+fn)\n",
    "recall"
   ]
  },
  {
   "cell_type": "code",
   "execution_count": 33,
   "id": "8c6500f0-ad77-4918-af62-dfe6a8a041b8",
   "metadata": {},
   "outputs": [
    {
     "data": {
      "text/plain": [
       "0.8085106382978724"
      ]
     },
     "execution_count": 33,
     "metadata": {},
     "output_type": "execute_result"
    }
   ],
   "source": [
    "# F1 score: tries to balance precision and recall, with uneven class distribution (large number of actual negs)\n",
    "f1 = 2*((precision*recall)/(precision+recall))\n",
    "f1"
   ]
  },
  {
   "cell_type": "markdown",
   "id": "fb972d43-b7dc-47a0-bfef-f9c16d95a0b3",
   "metadata": {},
   "source": [
    "**Misclassification analysis**"
   ]
  },
  {
   "cell_type": "code",
   "execution_count": 35,
   "id": "3c9483c7-1c81-416a-a180-99b3cdd99587",
   "metadata": {},
   "outputs": [
    {
     "data": {
      "text/plain": [
       "0.6419753086419753"
      ]
     },
     "execution_count": 35,
     "metadata": {},
     "output_type": "execute_result"
    }
   ],
   "source": [
    "fp_rate = fp/(fp+fn)\n",
    "fp_rate"
   ]
  },
  {
   "cell_type": "code",
   "execution_count": 36,
   "id": "21bd7cf3-7f32-4c1f-a3ab-be89cc9ac452",
   "metadata": {},
   "outputs": [
    {
     "data": {
      "text/plain": [
       "Mathematics             32\n",
       "Physics                  1\n",
       "Statistics              36\n",
       "Quantitative Biology     1\n",
       "Computer Science        12\n",
       "dtype: int64"
      ]
     },
     "execution_count": 36,
     "metadata": {},
     "output_type": "execute_result"
    }
   ],
   "source": [
    "fp_cs = df[(df[\"Llama3_70B_QF\"] == 1) & (df[\"Quantitative Finance\"] == 0)]\n",
    "fp_cs[['Mathematics', 'Physics', 'Statistics', 'Quantitative Biology', 'Computer Science']].sum()"
   ]
  },
  {
   "cell_type": "markdown",
   "id": "87a213cf-30af-4fab-a963-7dd5bd86c069",
   "metadata": {},
   "source": [
    "### Meta misclassification analysis"
   ]
  },
  {
   "cell_type": "code",
   "execution_count": 4,
   "id": "f0581a3c-216d-41ad-9be8-2dba29fc32bd",
   "metadata": {},
   "outputs": [
    {
     "data": {
      "text/html": [
       "<div>\n",
       "<style scoped>\n",
       "    .dataframe tbody tr th:only-of-type {\n",
       "        vertical-align: middle;\n",
       "    }\n",
       "\n",
       "    .dataframe tbody tr th {\n",
       "        vertical-align: top;\n",
       "    }\n",
       "\n",
       "    .dataframe thead th {\n",
       "        text-align: right;\n",
       "    }\n",
       "</style>\n",
       "<table border=\"1\" class=\"dataframe\">\n",
       "  <thead>\n",
       "    <tr style=\"text-align: right;\">\n",
       "      <th></th>\n",
       "      <th>True Labels</th>\n",
       "      <th>Predicted Labels</th>\n",
       "      <th>Count</th>\n",
       "    </tr>\n",
       "  </thead>\n",
       "  <tbody>\n",
       "    <tr>\n",
       "      <th>125</th>\n",
       "      <td>(0, 1, 0, 0, 0, 0)</td>\n",
       "      <td>(0, 1, 0, 0, 0, 0)</td>\n",
       "      <td>59</td>\n",
       "    </tr>\n",
       "    <tr>\n",
       "      <th>126</th>\n",
       "      <td>(0, 1, 0, 0, 0, 0)</td>\n",
       "      <td>(0, 1, 0, 0, 1, 0)</td>\n",
       "      <td>53</td>\n",
       "    </tr>\n",
       "    <tr>\n",
       "      <th>153</th>\n",
       "      <td>(1, 0, 0, 0, 0, 0)</td>\n",
       "      <td>(1, 0, 0, 0, 0, 0)</td>\n",
       "      <td>53</td>\n",
       "    </tr>\n",
       "    <tr>\n",
       "      <th>84</th>\n",
       "      <td>(0, 0, 1, 0, 0, 0)</td>\n",
       "      <td>(0, 0, 1, 0, 0, 0)</td>\n",
       "      <td>46</td>\n",
       "    </tr>\n",
       "    <tr>\n",
       "      <th>27</th>\n",
       "      <td>(0, 0, 0, 0, 1, 0)</td>\n",
       "      <td>(0, 0, 0, 0, 1, 0)</td>\n",
       "      <td>39</td>\n",
       "    </tr>\n",
       "    <tr>\n",
       "      <th>92</th>\n",
       "      <td>(0, 0, 1, 0, 0, 0)</td>\n",
       "      <td>(0, 1, 1, 0, 0, 0)</td>\n",
       "      <td>28</td>\n",
       "    </tr>\n",
       "    <tr>\n",
       "      <th>10</th>\n",
       "      <td>(0, 0, 0, 0, 0, 1)</td>\n",
       "      <td>(0, 0, 1, 1, 0, 1)</td>\n",
       "      <td>26</td>\n",
       "    </tr>\n",
       "    <tr>\n",
       "      <th>7</th>\n",
       "      <td>(0, 0, 0, 0, 0, 1)</td>\n",
       "      <td>(0, 0, 1, 0, 0, 1)</td>\n",
       "      <td>24</td>\n",
       "    </tr>\n",
       "    <tr>\n",
       "      <th>12</th>\n",
       "      <td>(0, 0, 0, 0, 0, 1)</td>\n",
       "      <td>(0, 0, 1, 1, 1, 1)</td>\n",
       "      <td>20</td>\n",
       "    </tr>\n",
       "    <tr>\n",
       "      <th>35</th>\n",
       "      <td>(0, 0, 0, 0, 1, 0)</td>\n",
       "      <td>(1, 0, 0, 0, 1, 0)</td>\n",
       "      <td>20</td>\n",
       "    </tr>\n",
       "  </tbody>\n",
       "</table>\n",
       "</div>"
      ],
      "text/plain": [
       "            True Labels    Predicted Labels  Count\n",
       "125  (0, 1, 0, 0, 0, 0)  (0, 1, 0, 0, 0, 0)     59\n",
       "126  (0, 1, 0, 0, 0, 0)  (0, 1, 0, 0, 1, 0)     53\n",
       "153  (1, 0, 0, 0, 0, 0)  (1, 0, 0, 0, 0, 0)     53\n",
       "84   (0, 0, 1, 0, 0, 0)  (0, 0, 1, 0, 0, 0)     46\n",
       "27   (0, 0, 0, 0, 1, 0)  (0, 0, 0, 0, 1, 0)     39\n",
       "92   (0, 0, 1, 0, 0, 0)  (0, 1, 1, 0, 0, 0)     28\n",
       "10   (0, 0, 0, 0, 0, 1)  (0, 0, 1, 1, 0, 1)     26\n",
       "7    (0, 0, 0, 0, 0, 1)  (0, 0, 1, 0, 0, 1)     24\n",
       "12   (0, 0, 0, 0, 0, 1)  (0, 0, 1, 1, 1, 1)     20\n",
       "35   (0, 0, 0, 0, 1, 0)  (1, 0, 0, 0, 1, 0)     20"
      ]
     },
     "execution_count": 4,
     "metadata": {},
     "output_type": "execute_result"
    }
   ],
   "source": [
    "fields = ['Computer Science', 'Physics', 'Mathematics', 'Statistics', 'Quantitative Biology', 'Quantitative Finance']\n",
    "p_fields = ['Llama3_70B_CS', 'Llama3_70B_Physics', 'Llama3_70B_Math', 'Llama3_70B_Statistics', 'Llama3_70B_QB', 'Llama3_70B_QF']\n",
    "\n",
    "combined = pd.DataFrame({\n",
    "    'True Labels': df[fields].apply(tuple, axis=1),\n",
    "    'Predicted Labels': df[p_fields].apply(tuple, axis=1)\n",
    "})\n",
    "\n",
    "confusion_table = combined.groupby(['True Labels', 'Predicted Labels']).size().reset_index(name='Count')\n",
    "\n",
    "confusion_table = confusion_table.sort_values(by='Count', ascending=False)\n",
    "confusion_table[:10]"
   ]
  },
  {
   "cell_type": "markdown",
   "id": "49ed6f8e-c1d7-4652-b4a2-f7aac1869ad4",
   "metadata": {},
   "source": [
    "Here are some of the most common misclassifications:\n",
    "- Assigning it as Physics and Quantitative Biology when it is just Physics (#126)\n",
    "- Assigning it as Physics and Mathematics when it is just Physics (#92)\n",
    "- Assigning it as Mathematics, Statistics, and Quantitative Finance when it is just Quantitative Finance (#28)\n",
    "- Assigning it as Statistics and Quantitative Biology when it is just Quantitative Biology (#21)\n",
    "\n",
    "These results are surprising, and notably, they are completely different from Llama 3 70B with in-context learning. The model makes mistakes with QB, mathematics, and statistics. There is a notable absence of computer science. In all of these tables, the spread of errors might be so large that we can't see any trends in errors. This could happen with computer science. But the mistakes that the model does make a lot are surprising."
   ]
  }
 ],
 "metadata": {
  "kernelspec": {
   "display_name": "Python 3 (ipykernel)",
   "language": "python",
   "name": "python3"
  },
  "language_info": {
   "codemirror_mode": {
    "name": "ipython",
    "version": 3
   },
   "file_extension": ".py",
   "mimetype": "text/x-python",
   "name": "python",
   "nbconvert_exporter": "python",
   "pygments_lexer": "ipython3",
   "version": "3.12.4"
  }
 },
 "nbformat": 4,
 "nbformat_minor": 5
}
