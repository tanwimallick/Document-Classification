{
 "cells": [
  {
   "cell_type": "markdown",
   "id": "cf94cf9a-6607-481c-a2b3-9ffdace93021",
   "metadata": {},
   "source": [
    "# Validating Llama 3 70B with in-context learning"
   ]
  },
  {
   "cell_type": "code",
   "execution_count": 2,
   "id": "0edeedaa-8561-450a-ba97-cb3ef066e86f",
   "metadata": {},
   "outputs": [],
   "source": [
    "import pandas as pd"
   ]
  },
  {
   "cell_type": "code",
   "execution_count": 3,
   "id": "28b20dcb-48bc-40aa-b67f-23b5b7de50ea",
   "metadata": {},
   "outputs": [
    {
     "data": {
      "text/html": [
       "<div>\n",
       "<style scoped>\n",
       "    .dataframe tbody tr th:only-of-type {\n",
       "        vertical-align: middle;\n",
       "    }\n",
       "\n",
       "    .dataframe tbody tr th {\n",
       "        vertical-align: top;\n",
       "    }\n",
       "\n",
       "    .dataframe thead th {\n",
       "        text-align: right;\n",
       "    }\n",
       "</style>\n",
       "<table border=\"1\" class=\"dataframe\">\n",
       "  <thead>\n",
       "    <tr style=\"text-align: right;\">\n",
       "      <th></th>\n",
       "      <th>ID</th>\n",
       "      <th>TITLE</th>\n",
       "      <th>ABSTRACT</th>\n",
       "      <th>Computer Science</th>\n",
       "      <th>Physics</th>\n",
       "      <th>Mathematics</th>\n",
       "      <th>Statistics</th>\n",
       "      <th>Quantitative Biology</th>\n",
       "      <th>Quantitative Finance</th>\n",
       "      <th>Llama3_70B_IC_CS</th>\n",
       "      <th>Llama3_70B_IC_Math</th>\n",
       "      <th>Llama3_70B_IC_Physics</th>\n",
       "      <th>Llama3_70B_IC_QB</th>\n",
       "      <th>Llama3_70B_IC_Stats</th>\n",
       "      <th>Llama3_70B_IC_QF</th>\n",
       "    </tr>\n",
       "  </thead>\n",
       "  <tbody>\n",
       "    <tr>\n",
       "      <th>0</th>\n",
       "      <td>475</td>\n",
       "      <td>Selecting optimal minimum spanning trees that ...</td>\n",
       "      <td>Choi et. al (2011) introduced a minimum span...</td>\n",
       "      <td>1</td>\n",
       "      <td>0</td>\n",
       "      <td>1</td>\n",
       "      <td>0</td>\n",
       "      <td>0</td>\n",
       "      <td>0</td>\n",
       "      <td>1</td>\n",
       "      <td>0</td>\n",
       "      <td>0</td>\n",
       "      <td>1</td>\n",
       "      <td>1</td>\n",
       "      <td>0</td>\n",
       "    </tr>\n",
       "    <tr>\n",
       "      <th>1</th>\n",
       "      <td>11242</td>\n",
       "      <td>A Markov Chain Model for the Cure Rate of Non-...</td>\n",
       "      <td>A Markov-chain model is developed for the pu...</td>\n",
       "      <td>0</td>\n",
       "      <td>0</td>\n",
       "      <td>0</td>\n",
       "      <td>1</td>\n",
       "      <td>0</td>\n",
       "      <td>1</td>\n",
       "      <td>0</td>\n",
       "      <td>0</td>\n",
       "      <td>0</td>\n",
       "      <td>0</td>\n",
       "      <td>1</td>\n",
       "      <td>1</td>\n",
       "    </tr>\n",
       "  </tbody>\n",
       "</table>\n",
       "</div>"
      ],
      "text/plain": [
       "      ID                                              TITLE  \\\n",
       "0    475  Selecting optimal minimum spanning trees that ...   \n",
       "1  11242  A Markov Chain Model for the Cure Rate of Non-...   \n",
       "\n",
       "                                            ABSTRACT  Computer Science  \\\n",
       "0    Choi et. al (2011) introduced a minimum span...                 1   \n",
       "1    A Markov-chain model is developed for the pu...                 0   \n",
       "\n",
       "   Physics  Mathematics  Statistics  Quantitative Biology  \\\n",
       "0        0            1           0                     0   \n",
       "1        0            0           1                     0   \n",
       "\n",
       "   Quantitative Finance  Llama3_70B_IC_CS  Llama3_70B_IC_Math  \\\n",
       "0                     0                 1                   0   \n",
       "1                     1                 0                   0   \n",
       "\n",
       "   Llama3_70B_IC_Physics  Llama3_70B_IC_QB  Llama3_70B_IC_Stats  \\\n",
       "0                      0                 1                    1   \n",
       "1                      0                 0                    1   \n",
       "\n",
       "   Llama3_70B_IC_QF  \n",
       "0                 0  \n",
       "1                 1  "
      ]
     },
     "execution_count": 3,
     "metadata": {},
     "output_type": "execute_result"
    }
   ],
   "source": [
    "df = pd.read_csv(\"data/llama370b_icl_test.csv\")\n",
    "df.head(2)"
   ]
  },
  {
   "cell_type": "markdown",
   "id": "aa70860d-6e67-45c3-b793-617cc3b19ab2",
   "metadata": {},
   "source": [
    "### Computer Science"
   ]
  },
  {
   "cell_type": "code",
   "execution_count": 4,
   "id": "ece3ca17-008e-4339-be9e-e6426e05d1c9",
   "metadata": {},
   "outputs": [
    {
     "data": {
      "text/plain": [
       "<Axes: >"
      ]
     },
     "execution_count": 4,
     "metadata": {},
     "output_type": "execute_result"
    },
    {
     "data": {
      "image/png": "[encoded data removed]",
      "text/plain": [
       "<Figure size 640x480 with 2 Axes>"
      ]
     },
     "metadata": {},
     "output_type": "display_data"
    }
   ],
   "source": [
    "# Source: https://medium.com/@dtuk81/confusion-matrix-visualization-fc31e3f30fea\n",
    "\n",
    "from sklearn.metrics import confusion_matrix\n",
    "import seaborn as sns\n",
    "import numpy as np\n",
    "\n",
    "cm = confusion_matrix(df['Computer Science'], df['Llama3_70B_IC_CS'])\n",
    "\n",
    "group_names = ['True Neg','False Pos','False Neg','True Pos']\n",
    "group_counts = [\"{0:0.0f}\".format(value) for value in\n",
    "                cm.flatten()]\n",
    "group_percentages = [\"{0:.2%}\".format(value) for value in\n",
    "                     cm.flatten()/np.sum(cm)]\n",
    "labels = [f\"{v1}\\n{v2}\\n{v3}\" for v1, v2, v3 in\n",
    "          zip(group_names,group_counts,group_percentages)]\n",
    "labels = np.asarray(labels).reshape(2,2)\n",
    "\n",
    "sns.heatmap(cm, annot=labels, fmt=\"\", cmap='Blues')"
   ]
  },
  {
   "cell_type": "code",
   "execution_count": 5,
   "id": "a6c84bc2-631d-42e4-84b8-7cea72a7cba1",
   "metadata": {},
   "outputs": [
    {
     "data": {
      "text/plain": [
       "0.7836812144212524"
      ]
     },
     "execution_count": 5,
     "metadata": {},
     "output_type": "execute_result"
    }
   ],
   "source": [
    "tn = cm[0][0]\n",
    "fp = cm[0][1]\n",
    "fn = cm[1][0]\n",
    "tp = cm[1][1]\n",
    "\n",
    "# Accuracy: the percent of correctly classified data\n",
    "accuracy = (tn+tp)/(tn+fp+fn+tp)\n",
    "accuracy"
   ]
  },
  {
   "cell_type": "code",
   "execution_count": 6,
   "id": "989dc55c-b00e-4c08-b768-654b7744e21e",
   "metadata": {},
   "outputs": [
    {
     "data": {
      "text/plain": [
       "0.5524017467248908"
      ]
     },
     "execution_count": 6,
     "metadata": {},
     "output_type": "execute_result"
    }
   ],
   "source": [
    "# Precision: positive predictive value; of those predicted as CS documents, how many were actually CS documents?\n",
    "precision = (tp)/(tp+fp)\n",
    "precision"
   ]
  },
  {
   "cell_type": "code",
   "execution_count": 8,
   "id": "a3e5b2d9-dc10-45ac-9fc8-c1152700d2be",
   "metadata": {},
   "outputs": [
    {
     "data": {
      "text/plain": [
       "0.9166666666666666"
      ]
     },
     "execution_count": 8,
     "metadata": {},
     "output_type": "execute_result"
    }
   ],
   "source": [
    "# Recall: of those that were actually CS documents, how many were predicted as CS documents?\n",
    "recall = (tp)/(tp+fn)\n",
    "recall"
   ]
  },
  {
   "cell_type": "code",
   "execution_count": 9,
   "id": "15f45348-e8a3-444d-b823-917939e0f45b",
   "metadata": {},
   "outputs": [
    {
     "data": {
      "text/plain": [
       "0.6893732970027249"
      ]
     },
     "execution_count": 9,
     "metadata": {},
     "output_type": "execute_result"
    }
   ],
   "source": [
    "# F1 score: tries to balance precision and recall, with uneven class distribution (large number of actual negs)\n",
    "f1 = 2*((precision*recall)/(precision+recall))\n",
    "f1"
   ]
  },
  {
   "cell_type": "markdown",
   "id": "c6f74e66-425b-4ac8-b3b0-a4255b3ed5bf",
   "metadata": {},
   "source": [
    "We see again that the pattern of low precision and high recall still holds, even for in-context learning. To be fair, this is a lopsided set, with only ~25% of the data being a CS article, so the F1-score matters a bit more here."
   ]
  },
  {
   "cell_type": "markdown",
   "id": "527d41c9-0033-4c94-b96b-4584ec4b6c11",
   "metadata": {},
   "source": [
    "**Misclassification analysis**"
   ]
  },
  {
   "cell_type": "code",
   "execution_count": 11,
   "id": "5a85f15e-6d9a-482a-8d9a-312527447053",
   "metadata": {},
   "outputs": [
    {
     "data": {
      "text/plain": [
       "0.8991228070175439"
      ]
     },
     "execution_count": 11,
     "metadata": {},
     "output_type": "execute_result"
    }
   ],
   "source": [
    "fp_rate = fp/(fp+fn)\n",
    "fp_rate"
   ]
  },
  {
   "cell_type": "code",
   "execution_count": 12,
   "id": "88e646bb-fe9b-4ed7-8b4d-3083656982f3",
   "metadata": {},
   "outputs": [
    {
     "data": {
      "text/plain": [
       "Mathematics             28\n",
       "Physics                 16\n",
       "Statistics              94\n",
       "Quantitative Biology    74\n",
       "Quantitative Finance    41\n",
       "dtype: int64"
      ]
     },
     "execution_count": 12,
     "metadata": {},
     "output_type": "execute_result"
    }
   ],
   "source": [
    "fp_cs = df[(df[\"Llama3_70B_IC_CS\"] == 1) & (df[\"Computer Science\"] == 0)]\n",
    "fp_cs[['Mathematics', 'Physics', 'Statistics', 'Quantitative Biology', 'Quantitative Finance']].sum()"
   ]
  },
  {
   "cell_type": "markdown",
   "id": "02963d6d-9ca8-4b1f-afc7-4736c8c305e7",
   "metadata": {},
   "source": [
    "### Mathematics"
   ]
  },
  {
   "cell_type": "code",
   "execution_count": 13,
   "id": "40ca0bab-2628-492b-b821-502538a20fe5",
   "metadata": {},
   "outputs": [
    {
     "data": {
      "text/plain": [
       "<Axes: >"
      ]
     },
     "execution_count": 13,
     "metadata": {},
     "output_type": "execute_result"
    },
    {
     "data": {
      "image/png": "[encoded data removed]",
      "text/plain": [
       "<Figure size 640x480 with 2 Axes>"
      ]
     },
     "metadata": {},
     "output_type": "display_data"
    }
   ],
   "source": [
    "# Source: https://medium.com/@dtuk81/confusion-matrix-visualization-fc31e3f30fea\n",
    "\n",
    "from sklearn.metrics import confusion_matrix\n",
    "import seaborn as sns\n",
    "import numpy as np\n",
    "\n",
    "cm = confusion_matrix(df['Mathematics'], df['Llama3_70B_IC_Math'])\n",
    "\n",
    "group_names = ['True Neg','False Pos','False Neg','True Pos']\n",
    "group_counts = [\"{0:0.0f}\".format(value) for value in\n",
    "                cm.flatten()]\n",
    "group_percentages = [\"{0:.2%}\".format(value) for value in\n",
    "                     cm.flatten()/np.sum(cm)]\n",
    "labels = [f\"{v1}\\n{v2}\\n{v3}\" for v1, v2, v3 in\n",
    "          zip(group_names,group_counts,group_percentages)]\n",
    "labels = np.asarray(labels).reshape(2,2)\n",
    "\n",
    "sns.heatmap(cm, annot=labels, fmt=\"\", cmap='Blues')"
   ]
  },
  {
   "cell_type": "code",
   "execution_count": 14,
   "id": "366946e8-7ea2-4f4c-adaa-6bb7b037f211",
   "metadata": {},
   "outputs": [
    {
     "data": {
      "text/plain": [
       "0.9013282732447818"
      ]
     },
     "execution_count": 14,
     "metadata": {},
     "output_type": "execute_result"
    }
   ],
   "source": [
    "tn = cm[0][0]\n",
    "fp = cm[0][1]\n",
    "fn = cm[1][0]\n",
    "tp = cm[1][1]\n",
    "\n",
    "# Accuracy: the percent of correctly classified data\n",
    "accuracy = (tn+tp)/(tn+fp+fn+tp)\n",
    "accuracy"
   ]
  },
  {
   "cell_type": "code",
   "execution_count": 15,
   "id": "19b42fd1-d2c0-4213-8029-fde67b88231e",
   "metadata": {},
   "outputs": [
    {
     "data": {
      "text/plain": [
       "0.7873563218390804"
      ]
     },
     "execution_count": 15,
     "metadata": {},
     "output_type": "execute_result"
    }
   ],
   "source": [
    "# Precision: positive predictive value; of those predicted as CS documents, how many were actually CS documents?\n",
    "precision = (tp)/(tp+fp)\n",
    "precision"
   ]
  },
  {
   "cell_type": "code",
   "execution_count": 16,
   "id": "7d28079c-00c4-4641-9f4b-e96ff8192d5a",
   "metadata": {},
   "outputs": [
    {
     "data": {
      "text/plain": [
       "0.6715686274509803"
      ]
     },
     "execution_count": 16,
     "metadata": {},
     "output_type": "execute_result"
    }
   ],
   "source": [
    "# Recall: of those that were actually CS documents, how many were predicted as CS documents?\n",
    "recall = (tp)/(tp+fn)\n",
    "recall"
   ]
  },
  {
   "cell_type": "code",
   "execution_count": 17,
   "id": "ae803d5f-65a2-4fce-99a1-6285ed59a582",
   "metadata": {},
   "outputs": [
    {
     "data": {
      "text/plain": [
       "0.7248677248677248"
      ]
     },
     "execution_count": 17,
     "metadata": {},
     "output_type": "execute_result"
    }
   ],
   "source": [
    "# F1 score: tries to balance precision and recall, with uneven class distribution (large number of actual negs)\n",
    "f1 = 2*((precision*recall)/(precision+recall))\n",
    "f1"
   ]
  },
  {
   "cell_type": "markdown",
   "id": "ee5e8173-92fa-46cb-8f9b-7e12a284d3a4",
   "metadata": {},
   "source": [
    "**Misclassification analysis**"
   ]
  },
  {
   "cell_type": "code",
   "execution_count": 18,
   "id": "51d80612-1b0c-409c-9144-9e1f7533e137",
   "metadata": {},
   "outputs": [
    {
     "data": {
      "text/plain": [
       "0.3557692307692308"
      ]
     },
     "execution_count": 18,
     "metadata": {},
     "output_type": "execute_result"
    }
   ],
   "source": [
    "fp_rate = fp/(fp+fn)\n",
    "fp_rate"
   ]
  },
  {
   "cell_type": "code",
   "execution_count": 19,
   "id": "6351f14e-00c9-4148-8eec-155f7c23a1f5",
   "metadata": {},
   "outputs": [
    {
     "data": {
      "text/plain": [
       "Computer Science        13\n",
       "Physics                  3\n",
       "Statistics               5\n",
       "Quantitative Biology     5\n",
       "Quantitative Finance    14\n",
       "dtype: int64"
      ]
     },
     "execution_count": 19,
     "metadata": {},
     "output_type": "execute_result"
    }
   ],
   "source": [
    "fp_cs = df[(df[\"Llama3_70B_IC_Math\"] == 1) & (df[\"Mathematics\"] == 0)]\n",
    "fp_cs[['Computer Science', 'Physics', 'Statistics', 'Quantitative Biology', 'Quantitative Finance']].sum()"
   ]
  },
  {
   "cell_type": "markdown",
   "id": "9d42a1df-5fb4-4cb4-a6aa-43d0dca6b40c",
   "metadata": {},
   "source": [
    "### Physics"
   ]
  },
  {
   "cell_type": "code",
   "execution_count": 59,
   "id": "a3a2c0ec-6bba-454b-8dfe-1c6506088a71",
   "metadata": {},
   "outputs": [
    {
     "data": {
      "text/plain": [
       "<Axes: >"
      ]
     },
     "execution_count": 59,
     "metadata": {},
     "output_type": "execute_result"
    },
    {
     "data": {
      "image/png": "[encoded data removed]",
      "text/plain": [
       "<Figure size 640x480 with 2 Axes>"
      ]
     },
     "metadata": {},
     "output_type": "display_data"
    }
   ],
   "source": [
    "# Source: https://medium.com/@dtuk81/confusion-matrix-visualization-fc31e3f30fea\n",
    "\n",
    "from sklearn.metrics import confusion_matrix\n",
    "import seaborn as sns\n",
    "import numpy as np\n",
    "\n",
    "cm = confusion_matrix(df['Physics'], df['Llama3_70B_IC_Physics'])\n",
    "\n",
    "group_names = ['True Neg','False Pos','False Neg','True Pos']\n",
    "group_counts = [\"{0:0.0f}\".format(value) for value in\n",
    "                cm.flatten()]\n",
    "group_percentages = [\"{0:.2%}\".format(value) for value in\n",
    "                     cm.flatten()/np.sum(cm)]\n",
    "labels = [f\"{v1}\\n{v2}\\n{v3}\" for v1, v2, v3 in\n",
    "          zip(group_names,group_counts,group_percentages)]\n",
    "labels = np.asarray(labels).reshape(2,2)\n",
    "\n",
    "sns.heatmap(cm, annot=labels, fmt=\"\", cmap='Blues')"
   ]
  },
  {
   "cell_type": "code",
   "execution_count": 60,
   "id": "72f2285e-8d41-48d1-b350-d7de3b3b1a07",
   "metadata": {},
   "outputs": [
    {
     "data": {
      "text/plain": [
       "0.9478178368121443"
      ]
     },
     "execution_count": 60,
     "metadata": {},
     "output_type": "execute_result"
    }
   ],
   "source": [
    "tn = cm[0][0]\n",
    "fp = cm[0][1]\n",
    "fn = cm[1][0]\n",
    "tp = cm[1][1]\n",
    "\n",
    "# Accuracy: the percent of correctly classified data\n",
    "accuracy = (tn+tp)/(tn+fp+fn+tp)\n",
    "accuracy"
   ]
  },
  {
   "cell_type": "code",
   "execution_count": 61,
   "id": "d55c8911-45fd-4263-8963-8e282d6aca78",
   "metadata": {},
   "outputs": [
    {
     "data": {
      "text/plain": [
       "0.8724489795918368"
      ]
     },
     "execution_count": 61,
     "metadata": {},
     "output_type": "execute_result"
    }
   ],
   "source": [
    "# Precision: positive predictive value; of those predicted as CS documents, how many were actually CS documents?\n",
    "precision = (tp)/(tp+fp)\n",
    "precision"
   ]
  },
  {
   "cell_type": "code",
   "execution_count": 62,
   "id": "04a789e8-9201-4da8-b6c3-11d5a677e694",
   "metadata": {},
   "outputs": [
    {
     "data": {
      "text/plain": [
       "0.8507462686567164"
      ]
     },
     "execution_count": 62,
     "metadata": {},
     "output_type": "execute_result"
    }
   ],
   "source": [
    "# Recall: of those that were actually CS documents, how many were predicted as CS documents?\n",
    "recall = (tp)/(tp+fn)\n",
    "recall"
   ]
  },
  {
   "cell_type": "code",
   "execution_count": 63,
   "id": "93702766-79fe-496a-a1db-126ea6ce36f7",
   "metadata": {},
   "outputs": [
    {
     "data": {
      "text/plain": [
       "0.8614609571788413"
      ]
     },
     "execution_count": 63,
     "metadata": {},
     "output_type": "execute_result"
    }
   ],
   "source": [
    "# F1 score: tries to balance precision and recall, with uneven class distribution (large number of actual negs)\n",
    "f1 = 2*((precision*recall)/(precision+recall))\n",
    "f1"
   ]
  },
  {
   "cell_type": "markdown",
   "id": "9b928762-74b2-4528-8954-4ad144a618c7",
   "metadata": {},
   "source": [
    "**Misclassification analysis**"
   ]
  },
  {
   "cell_type": "code",
   "execution_count": 64,
   "id": "95d7338c-e770-4f02-b6e4-d256bde7be16",
   "metadata": {},
   "outputs": [
    {
     "data": {
      "text/plain": [
       "0.45454545454545453"
      ]
     },
     "execution_count": 64,
     "metadata": {},
     "output_type": "execute_result"
    }
   ],
   "source": [
    "fp_rate = fp/(fp+fn)\n",
    "fp_rate"
   ]
  },
  {
   "cell_type": "code",
   "execution_count": 66,
   "id": "b7c511db-9320-4da1-807d-ec8f6c74c530",
   "metadata": {},
   "outputs": [
    {
     "data": {
      "text/plain": [
       "Mathematics             8\n",
       "Computer Science        4\n",
       "Statistics              1\n",
       "Quantitative Biology    8\n",
       "Quantitative Finance    6\n",
       "dtype: int64"
      ]
     },
     "execution_count": 66,
     "metadata": {},
     "output_type": "execute_result"
    }
   ],
   "source": [
    "fp_cs = df[(df[\"Llama3_70B_IC_Physics\"] == 1) & (df[\"Physics\"] == 0)]\n",
    "fp_cs[['Mathematics', 'Computer Science', 'Statistics', 'Quantitative Biology', 'Quantitative Finance']].sum()"
   ]
  },
  {
   "cell_type": "markdown",
   "id": "238b9bb6-734d-4fd1-b5e7-8a3ba16cdcc8",
   "metadata": {},
   "source": [
    "### Quantitative Biology"
   ]
  },
  {
   "cell_type": "code",
   "execution_count": 52,
   "id": "dfb80617-ada2-42dd-ac61-342629bd582c",
   "metadata": {},
   "outputs": [
    {
     "data": {
      "text/plain": [
       "<Axes: >"
      ]
     },
     "execution_count": 52,
     "metadata": {},
     "output_type": "execute_result"
    },
    {
     "data": {
      "image/png": "[encoded data removed]",
      "text/plain": [
       "<Figure size 640x480 with 2 Axes>"
      ]
     },
     "metadata": {},
     "output_type": "display_data"
    }
   ],
   "source": [
    "# Source: https://medium.com/@dtuk81/confusion-matrix-visualization-fc31e3f30fea\n",
    "\n",
    "from sklearn.metrics import confusion_matrix\n",
    "import seaborn as sns\n",
    "import numpy as np\n",
    "\n",
    "cm = confusion_matrix(df['Quantitative Biology'], df['Llama3_70B_IC_QB'])\n",
    "\n",
    "group_names = ['True Neg','False Pos','False Neg','True Pos']\n",
    "group_counts = [\"{0:0.0f}\".format(value) for value in\n",
    "                cm.flatten()]\n",
    "group_percentages = [\"{0:.2%}\".format(value) for value in\n",
    "                     cm.flatten()/np.sum(cm)]\n",
    "labels = [f\"{v1}\\n{v2}\\n{v3}\" for v1, v2, v3 in\n",
    "          zip(group_names,group_counts,group_percentages)]\n",
    "labels = np.asarray(labels).reshape(2,2)\n",
    "\n",
    "sns.heatmap(cm, annot=labels, fmt=\"\", cmap='Blues')"
   ]
  },
  {
   "cell_type": "code",
   "execution_count": 53,
   "id": "a8d3d5ba-5ae6-4b5f-b4ce-52ffcd513459",
   "metadata": {},
   "outputs": [
    {
     "data": {
      "text/plain": [
       "0.9354838709677419"
      ]
     },
     "execution_count": 53,
     "metadata": {},
     "output_type": "execute_result"
    }
   ],
   "source": [
    "tn = cm[0][0]\n",
    "fp = cm[0][1]\n",
    "fn = cm[1][0]\n",
    "tp = cm[1][1]\n",
    "\n",
    "# Accuracy: the percent of correctly classified data\n",
    "accuracy = (tn+tp)/(tn+fp+fn+tp)\n",
    "accuracy"
   ]
  },
  {
   "cell_type": "code",
   "execution_count": 54,
   "id": "e6bd04b8-826c-47ed-a437-8b6ce714d3b3",
   "metadata": {},
   "outputs": [
    {
     "data": {
      "text/plain": [
       "0.8027522935779816"
      ]
     },
     "execution_count": 54,
     "metadata": {},
     "output_type": "execute_result"
    }
   ],
   "source": [
    "# Precision: positive predictive value; of those predicted as CS documents, how many were actually CS documents?\n",
    "precision = (tp)/(tp+fp)\n",
    "precision"
   ]
  },
  {
   "cell_type": "code",
   "execution_count": 55,
   "id": "e618cdc6-1d13-4ce5-bb80-2b87f58c041a",
   "metadata": {},
   "outputs": [
    {
     "data": {
      "text/plain": [
       "0.875"
      ]
     },
     "execution_count": 55,
     "metadata": {},
     "output_type": "execute_result"
    }
   ],
   "source": [
    "# Recall: of those that were actually CS documents, how many were predicted as CS documents?\n",
    "recall = (tp)/(tp+fn)\n",
    "recall"
   ]
  },
  {
   "cell_type": "code",
   "execution_count": 56,
   "id": "b2817259-bc02-43d2-aff0-d66f3726adfb",
   "metadata": {},
   "outputs": [
    {
     "data": {
      "text/plain": [
       "0.8373205741626795"
      ]
     },
     "execution_count": 56,
     "metadata": {},
     "output_type": "execute_result"
    }
   ],
   "source": [
    "# F1 score: tries to balance precision and recall, with uneven class distribution (large number of actual negs)\n",
    "f1 = 2*((precision*recall)/(precision+recall))\n",
    "f1"
   ]
  },
  {
   "cell_type": "markdown",
   "id": "49e6c8e6-9214-4272-b8a4-6060c3bf296d",
   "metadata": {},
   "source": [
    "**Misclassification analysis**"
   ]
  },
  {
   "cell_type": "code",
   "execution_count": 57,
   "id": "225ad0ff-6b83-4a20-a594-0dceb8ab90ba",
   "metadata": {},
   "outputs": [
    {
     "data": {
      "text/plain": [
       "0.6323529411764706"
      ]
     },
     "execution_count": 57,
     "metadata": {},
     "output_type": "execute_result"
    }
   ],
   "source": [
    "fp_rate = fp/(fp+fn)\n",
    "fp_rate"
   ]
  },
  {
   "cell_type": "code",
   "execution_count": 58,
   "id": "492169dd-9322-4539-a02d-5d17f7a43069",
   "metadata": {},
   "outputs": [
    {
     "data": {
      "text/plain": [
       "Mathematics              9\n",
       "Computer Science        23\n",
       "Statistics              16\n",
       "Computer Science        23\n",
       "Quantitative Finance     2\n",
       "dtype: int64"
      ]
     },
     "execution_count": 58,
     "metadata": {},
     "output_type": "execute_result"
    }
   ],
   "source": [
    "fp_cs = df[(df[\"Llama3_70B_IC_QB\"] == 1) & (df[\"Quantitative Biology\"] == 0)]\n",
    "fp_cs[['Mathematics', 'Computer Science', 'Statistics', 'Computer Science', 'Quantitative Finance']].sum()"
   ]
  },
  {
   "cell_type": "markdown",
   "id": "07f1471f-f5ff-43bc-984d-88926a123261",
   "metadata": {},
   "source": [
    "### Statistics"
   ]
  },
  {
   "cell_type": "code",
   "execution_count": 36,
   "id": "b30ae3dc-af33-4816-a177-7f7fd01f9f00",
   "metadata": {},
   "outputs": [
    {
     "data": {
      "text/plain": [
       "<Axes: >"
      ]
     },
     "execution_count": 36,
     "metadata": {},
     "output_type": "execute_result"
    },
    {
     "data": {
      "image/png": "[encoded data removed]",
      "text/plain": [
       "<Figure size 640x480 with 2 Axes>"
      ]
     },
     "metadata": {},
     "output_type": "display_data"
    }
   ],
   "source": [
    "# Source: https://medium.com/@dtuk81/confusion-matrix-visualization-fc31e3f30fea\n",
    "\n",
    "from sklearn.metrics import confusion_matrix\n",
    "import seaborn as sns\n",
    "import numpy as np\n",
    "\n",
    "cm = confusion_matrix(df['Statistics'], df['Llama3_70B_IC_Stats'])\n",
    "\n",
    "group_names = ['True Neg','False Pos','False Neg','True Pos']\n",
    "group_counts = [\"{0:0.0f}\".format(value) for value in\n",
    "                cm.flatten()]\n",
    "group_percentages = [\"{0:.2%}\".format(value) for value in\n",
    "                     cm.flatten()/np.sum(cm)]\n",
    "labels = [f\"{v1}\\n{v2}\\n{v3}\" for v1, v2, v3 in\n",
    "          zip(group_names,group_counts,group_percentages)]\n",
    "labels = np.asarray(labels).reshape(2,2)\n",
    "\n",
    "sns.heatmap(cm, annot=labels, fmt=\"\", cmap='Blues')"
   ]
  },
  {
   "cell_type": "code",
   "execution_count": 37,
   "id": "2d24f83e-4f24-425f-bfa2-69112e021ea2",
   "metadata": {},
   "outputs": [
    {
     "data": {
      "text/plain": [
       "0.6907020872865275"
      ]
     },
     "execution_count": 37,
     "metadata": {},
     "output_type": "execute_result"
    }
   ],
   "source": [
    "tn = cm[0][0]\n",
    "fp = cm[0][1]\n",
    "fn = cm[1][0]\n",
    "tp = cm[1][1]\n",
    "\n",
    "# Accuracy: the percent of correctly classified data\n",
    "accuracy = (tn+tp)/(tn+fp+fn+tp)\n",
    "accuracy"
   ]
  },
  {
   "cell_type": "code",
   "execution_count": 38,
   "id": "961e260b-19e4-4042-b82d-897fdc57113e",
   "metadata": {},
   "outputs": [
    {
     "data": {
      "text/plain": [
       "0.41189931350114417"
      ]
     },
     "execution_count": 38,
     "metadata": {},
     "output_type": "execute_result"
    }
   ],
   "source": [
    "# Precision: positive predictive value; of those predicted as CS documents, how many were actually CS documents?\n",
    "precision = (tp)/(tp+fp)\n",
    "precision"
   ]
  },
  {
   "cell_type": "code",
   "execution_count": 39,
   "id": "790714c6-c315-4b85-9957-ae760f0b2c35",
   "metadata": {},
   "outputs": [
    {
     "data": {
      "text/plain": [
       "0.7228915662650602"
      ]
     },
     "execution_count": 39,
     "metadata": {},
     "output_type": "execute_result"
    }
   ],
   "source": [
    "# Recall: of those that were actually CS documents, how many were predicted as CS documents?\n",
    "recall = (tp)/(tp+fn)\n",
    "recall"
   ]
  },
  {
   "cell_type": "code",
   "execution_count": 40,
   "id": "49456a34-9d21-44c1-aea1-2b2fa92c8f2f",
   "metadata": {},
   "outputs": [
    {
     "data": {
      "text/plain": [
       "0.5247813411078717"
      ]
     },
     "execution_count": 40,
     "metadata": {},
     "output_type": "execute_result"
    }
   ],
   "source": [
    "# F1 score: tries to balance precision and recall, with uneven class distribution (large number of actual negs)\n",
    "f1 = 2*((precision*recall)/(precision+recall))\n",
    "f1"
   ]
  },
  {
   "cell_type": "markdown",
   "id": "21de9935-b97d-4878-834b-26770fc0bf84",
   "metadata": {},
   "source": [
    "**Misclassification analysis**"
   ]
  },
  {
   "cell_type": "code",
   "execution_count": 41,
   "id": "e9eb707b-9fe2-4e91-9078-fc3fb653eb4a",
   "metadata": {},
   "outputs": [
    {
     "data": {
      "text/plain": [
       "0.7883435582822086"
      ]
     },
     "execution_count": 41,
     "metadata": {},
     "output_type": "execute_result"
    }
   ],
   "source": [
    "fp_rate = fp/(fp+fn)\n",
    "fp_rate"
   ]
  },
  {
   "cell_type": "code",
   "execution_count": 42,
   "id": "c648499e-f92a-4a0a-bd20-c2abc8e244d4",
   "metadata": {},
   "outputs": [
    {
     "data": {
      "text/plain": [
       "Mathematics              27\n",
       "Physics                  25\n",
       "Computer Science         48\n",
       "Quantitative Biology     58\n",
       "Quantitative Finance    126\n",
       "dtype: int64"
      ]
     },
     "execution_count": 42,
     "metadata": {},
     "output_type": "execute_result"
    }
   ],
   "source": [
    "fp_cs = df[(df[\"Llama3_70B_IC_Stats\"] == 1) & (df[\"Statistics\"] == 0)]\n",
    "fp_cs[['Mathematics', 'Physics', 'Computer Science', 'Quantitative Biology', 'Quantitative Finance']].sum()"
   ]
  },
  {
   "cell_type": "markdown",
   "id": "ca47acd4-4a06-4355-b7dd-1f5df99be6bc",
   "metadata": {},
   "source": [
    "### Quantitative Finance"
   ]
  },
  {
   "cell_type": "code",
   "execution_count": 43,
   "id": "310d05d0-2cba-487c-81f8-22957c2f4fcd",
   "metadata": {},
   "outputs": [
    {
     "data": {
      "text/plain": [
       "<Axes: >"
      ]
     },
     "execution_count": 43,
     "metadata": {},
     "output_type": "execute_result"
    },
    {
     "data": {
      "image/png": "[encoded data removed]",
      "text/plain": [
       "<Figure size 640x480 with 2 Axes>"
      ]
     },
     "metadata": {},
     "output_type": "display_data"
    }
   ],
   "source": [
    "# Source: https://medium.com/@dtuk81/confusion-matrix-visualization-fc31e3f30fea\n",
    "\n",
    "from sklearn.metrics import confusion_matrix\n",
    "import seaborn as sns\n",
    "import numpy as np\n",
    "\n",
    "cm = confusion_matrix(df['Quantitative Finance'], df['Llama3_70B_IC_QF'])\n",
    "\n",
    "group_names = ['True Neg','False Pos','False Neg','True Pos']\n",
    "group_counts = [\"{0:0.0f}\".format(value) for value in\n",
    "                cm.flatten()]\n",
    "group_percentages = [\"{0:.2%}\".format(value) for value in\n",
    "                     cm.flatten()/np.sum(cm)]\n",
    "labels = [f\"{v1}\\n{v2}\\n{v3}\" for v1, v2, v3 in\n",
    "          zip(group_names,group_counts,group_percentages)]\n",
    "labels = np.asarray(labels).reshape(2,2)\n",
    "\n",
    "sns.heatmap(cm, annot=labels, fmt=\"\", cmap='Blues')"
   ]
  },
  {
   "cell_type": "code",
   "execution_count": 44,
   "id": "75ebd151-79dc-4038-a53f-ab2f04b9434e",
   "metadata": {},
   "outputs": [
    {
     "data": {
      "text/plain": [
       "0.9459203036053131"
      ]
     },
     "execution_count": 44,
     "metadata": {},
     "output_type": "execute_result"
    }
   ],
   "source": [
    "tn = cm[0][0]\n",
    "fp = cm[0][1]\n",
    "fn = cm[1][0]\n",
    "tp = cm[1][1]\n",
    "\n",
    "# Accuracy: the percent of correctly classified data\n",
    "accuracy = (tn+tp)/(tn+fp+fn+tp)\n",
    "accuracy"
   ]
  },
  {
   "cell_type": "code",
   "execution_count": 45,
   "id": "7e53d28f-a3b8-4786-9016-71912f2b124d",
   "metadata": {},
   "outputs": [
    {
     "data": {
      "text/plain": [
       "0.9440993788819876"
      ]
     },
     "execution_count": 45,
     "metadata": {},
     "output_type": "execute_result"
    }
   ],
   "source": [
    "# Precision: positive predictive value; of those predicted as CS documents, how many were actually CS documents?\n",
    "precision = (tp)/(tp+fp)\n",
    "precision"
   ]
  },
  {
   "cell_type": "code",
   "execution_count": 46,
   "id": "38ddc641-08ce-417a-9638-21e1ecc72152",
   "metadata": {},
   "outputs": [
    {
     "data": {
      "text/plain": [
       "0.76"
      ]
     },
     "execution_count": 46,
     "metadata": {},
     "output_type": "execute_result"
    }
   ],
   "source": [
    "# Recall: of those that were actually CS documents, how many were predicted as CS documents?\n",
    "recall = (tp)/(tp+fn)\n",
    "recall"
   ]
  },
  {
   "cell_type": "code",
   "execution_count": 47,
   "id": "c2458e64-958e-47ec-82c8-7a5bbcde5bec",
   "metadata": {},
   "outputs": [
    {
     "data": {
      "text/plain": [
       "0.8421052631578948"
      ]
     },
     "execution_count": 47,
     "metadata": {},
     "output_type": "execute_result"
    }
   ],
   "source": [
    "# F1 score: tries to balance precision and recall, with uneven class distribution (large number of actual negs)\n",
    "f1 = 2*((precision*recall)/(precision+recall))\n",
    "f1"
   ]
  },
  {
   "cell_type": "markdown",
   "id": "bf10baf8-c812-4778-bdf0-93206c1e00a7",
   "metadata": {},
   "source": [
    "**Misclassification analysis**"
   ]
  },
  {
   "cell_type": "code",
   "execution_count": 49,
   "id": "34b2ee31-1169-401b-bfee-7c9c6a755567",
   "metadata": {},
   "outputs": [
    {
     "data": {
      "text/plain": [
       "0.15789473684210525"
      ]
     },
     "execution_count": 49,
     "metadata": {},
     "output_type": "execute_result"
    }
   ],
   "source": [
    "fp_rate = fp/(fp+fn)\n",
    "fp_rate"
   ]
  },
  {
   "cell_type": "code",
   "execution_count": 51,
   "id": "baf391be-5bdd-4fbb-a049-b56c50076944",
   "metadata": {},
   "outputs": [
    {
     "data": {
      "text/plain": [
       "Mathematics             6\n",
       "Physics                 0\n",
       "Statistics              5\n",
       "Quantitative Biology    0\n",
       "Computer Science        0\n",
       "dtype: int64"
      ]
     },
     "execution_count": 51,
     "metadata": {},
     "output_type": "execute_result"
    }
   ],
   "source": [
    "fp_cs = df[(df[\"Llama3_70B_IC_QF\"] == 1) & (df[\"Quantitative Finance\"] == 0)]\n",
    "fp_cs[['Mathematics', 'Physics', 'Statistics', 'Quantitative Biology', 'Computer Science']].sum()"
   ]
  },
  {
   "cell_type": "markdown",
   "id": "55216cfc-248c-4a4c-9042-d4d5d3ff88e9",
   "metadata": {},
   "source": [
    "### Meta misclassification analysis"
   ]
  },
  {
   "cell_type": "code",
   "execution_count": 69,
   "id": "cc8c5a78-7c45-4e6c-9e12-76dc5a1138eb",
   "metadata": {},
   "outputs": [
    {
     "data": {
      "text/html": [
       "<div>\n",
       "<style scoped>\n",
       "    .dataframe tbody tr th:only-of-type {\n",
       "        vertical-align: middle;\n",
       "    }\n",
       "\n",
       "    .dataframe tbody tr th {\n",
       "        vertical-align: top;\n",
       "    }\n",
       "\n",
       "    .dataframe thead th {\n",
       "        text-align: right;\n",
       "    }\n",
       "</style>\n",
       "<table border=\"1\" class=\"dataframe\">\n",
       "  <thead>\n",
       "    <tr style=\"text-align: right;\">\n",
       "      <th></th>\n",
       "      <th>True Labels</th>\n",
       "      <th>Predicted Labels</th>\n",
       "      <th>Count</th>\n",
       "    </tr>\n",
       "  </thead>\n",
       "  <tbody>\n",
       "    <tr>\n",
       "      <th>85</th>\n",
       "      <td>(0, 1, 0, 0, 0, 0)</td>\n",
       "      <td>(0, 1, 0, 0, 0, 0)</td>\n",
       "      <td>133</td>\n",
       "    </tr>\n",
       "    <tr>\n",
       "      <th>62</th>\n",
       "      <td>(0, 0, 1, 0, 0, 0)</td>\n",
       "      <td>(0, 0, 1, 0, 0, 0)</td>\n",
       "      <td>85</td>\n",
       "    </tr>\n",
       "    <tr>\n",
       "      <th>108</th>\n",
       "      <td>(1, 0, 0, 0, 0, 0)</td>\n",
       "      <td>(1, 0, 0, 0, 0, 0)</td>\n",
       "      <td>69</td>\n",
       "    </tr>\n",
       "    <tr>\n",
       "      <th>4</th>\n",
       "      <td>(0, 0, 0, 0, 0, 1)</td>\n",
       "      <td>(0, 0, 0, 1, 0, 1)</td>\n",
       "      <td>69</td>\n",
       "    </tr>\n",
       "    <tr>\n",
       "      <th>19</th>\n",
       "      <td>(0, 0, 0, 0, 1, 0)</td>\n",
       "      <td>(0, 0, 0, 0, 1, 0)</td>\n",
       "      <td>58</td>\n",
       "    </tr>\n",
       "    <tr>\n",
       "      <th>131</th>\n",
       "      <td>(1, 0, 0, 1, 0, 0)</td>\n",
       "      <td>(1, 0, 0, 1, 0, 0)</td>\n",
       "      <td>47</td>\n",
       "    </tr>\n",
       "    <tr>\n",
       "      <th>129</th>\n",
       "      <td>(1, 0, 0, 1, 0, 0)</td>\n",
       "      <td>(1, 0, 0, 0, 0, 0)</td>\n",
       "      <td>30</td>\n",
       "    </tr>\n",
       "    <tr>\n",
       "      <th>28</th>\n",
       "      <td>(0, 0, 0, 0, 1, 0)</td>\n",
       "      <td>(1, 0, 0, 0, 1, 0)</td>\n",
       "      <td>25</td>\n",
       "    </tr>\n",
       "    <tr>\n",
       "      <th>1</th>\n",
       "      <td>(0, 0, 0, 0, 0, 1)</td>\n",
       "      <td>(0, 0, 0, 0, 0, 1)</td>\n",
       "      <td>25</td>\n",
       "    </tr>\n",
       "    <tr>\n",
       "      <th>21</th>\n",
       "      <td>(0, 0, 0, 0, 1, 0)</td>\n",
       "      <td>(0, 0, 0, 1, 1, 0)</td>\n",
       "      <td>24</td>\n",
       "    </tr>\n",
       "  </tbody>\n",
       "</table>\n",
       "</div>"
      ],
      "text/plain": [
       "            True Labels    Predicted Labels  Count\n",
       "85   (0, 1, 0, 0, 0, 0)  (0, 1, 0, 0, 0, 0)    133\n",
       "62   (0, 0, 1, 0, 0, 0)  (0, 0, 1, 0, 0, 0)     85\n",
       "108  (1, 0, 0, 0, 0, 0)  (1, 0, 0, 0, 0, 0)     69\n",
       "4    (0, 0, 0, 0, 0, 1)  (0, 0, 0, 1, 0, 1)     69\n",
       "19   (0, 0, 0, 0, 1, 0)  (0, 0, 0, 0, 1, 0)     58\n",
       "131  (1, 0, 0, 1, 0, 0)  (1, 0, 0, 1, 0, 0)     47\n",
       "129  (1, 0, 0, 1, 0, 0)  (1, 0, 0, 0, 0, 0)     30\n",
       "28   (0, 0, 0, 0, 1, 0)  (1, 0, 0, 0, 1, 0)     25\n",
       "1    (0, 0, 0, 0, 0, 1)  (0, 0, 0, 0, 0, 1)     25\n",
       "21   (0, 0, 0, 0, 1, 0)  (0, 0, 0, 1, 1, 0)     24"
      ]
     },
     "execution_count": 69,
     "metadata": {},
     "output_type": "execute_result"
    }
   ],
   "source": [
    "fields = ['Computer Science', 'Physics', 'Mathematics', 'Statistics', 'Quantitative Biology', 'Quantitative Finance']\n",
    "p_fields = ['Llama3_70B_IC_CS', 'Llama3_70B_IC_Physics', 'Llama3_70B_IC_Math', 'Llama3_70B_IC_Stats', 'Llama3_70B_IC_QB', 'Llama3_70B_IC_QF']\n",
    "\n",
    "combined = pd.DataFrame({\n",
    "    'True Labels': df[fields].apply(tuple, axis=1),\n",
    "    'Predicted Labels': df[p_fields].apply(tuple, axis=1)\n",
    "})\n",
    "\n",
    "confusion_table = combined.groupby(['True Labels', 'Predicted Labels']).size().reset_index(name='Count')\n",
    "\n",
    "confusion_table = confusion_table.sort_values(by='Count', ascending=False)\n",
    "confusion_table[:10]"
   ]
  },
  {
   "cell_type": "markdown",
   "id": "ae037653-1768-4aca-96c2-db23f728deba",
   "metadata": {},
   "source": [
    "Here are some of the most common misclassifications:\n",
    "- Assigning it as Statistics and Quantitative Finance when it is just Quantitative Finance (#4)\n",
    "- Assigning it as Computer Science and Statistics when it is just Computer Science (#129)\n",
    "- Assigning it as Computer Science and Quantitative Biology when it is just Quantitative Biology (#28)\n",
    "- Assigning it as Statistics and Quantitative Biology when it is just Quantitative Biology (#21)\n",
    "\n",
    "These results confirm our hypothesis that the introduction of more niche fields has upset the accuracy of Statistics and Computer Science because they are often lumped in with Quantitative Finance and Biology when those articles actually do not belong to that field. This hypothesis wouldn't have held if most of the QF and QB articles happened to also have CS and Statistics labels. But it seems like the human labelers here have not done this. I would suspect that a lot of QF and QB articles would have also been thought of as CS and Statistics, so the error is understandable. But the fact that there are fewer of these errors overall, despite being the most common, probably can be attributed to the structure of the prompt.\n",
    "\n",
    "I would expect that Llama 3 70B without ICL would have similar errors but greater magnitude."
   ]
  }
 ],
 "metadata": {
  "kernelspec": {
   "display_name": "Python 3 (ipykernel)",
   "language": "python",
   "name": "python3"
  },
  "language_info": {
   "codemirror_mode": {
    "name": "ipython",
    "version": 3
   },
   "file_extension": ".py",
   "mimetype": "text/x-python",
   "name": "python",
   "nbconvert_exporter": "python",
   "pygments_lexer": "ipython3",
   "version": "3.12.4"
  }
 },
 "nbformat": 4,
 "nbformat_minor": 5
}
