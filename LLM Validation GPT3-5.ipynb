{
 "cells": [
  {
   "cell_type": "markdown",
   "id": "ed97a4b6-d82d-4a26-9eb4-5bac630bd10a",
   "metadata": {},
   "source": [
    "# LLM Validation - GPT-3.5 Turbo"
   ]
  },
  {
   "cell_type": "code",
   "execution_count": 10,
   "id": "57391a73-8790-447b-b60c-4e38d2d192c3",
   "metadata": {},
   "outputs": [],
   "source": [
    "from openai import OpenAI\n",
    "import pandas as pd"
   ]
  },
  {
   "cell_type": "markdown",
   "id": "54abd0fb-dcfe-47e3-8276-44a67854827e",
   "metadata": {},
   "source": [
    "**Define inference function**"
   ]
  },
  {
   "cell_type": "code",
   "execution_count": 31,
   "id": "f213336a-c992-4120-b507-c1fbc8ed4184",
   "metadata": {},
   "outputs": [],
   "source": [
    "client = OpenAI(\n",
    "    api_key=\"\"\n",
    ")"
   ]
  },
  {
   "cell_type": "code",
   "execution_count": 8,
   "id": "ad21df09-be4c-4eeb-bf59-2296ea2be0f5",
   "metadata": {},
   "outputs": [],
   "source": [
    "def label_abstract(x):\n",
    "    prompt = f'''I will paste an abstract from a research article. I want you\n",
    "            to respond \"1\" if the abstract comes from a paper in the computer science field, and \"0\"\n",
    "            if it doesn't or if you are not sure. Do not include anything else in your response; just\n",
    "            the number. Please classify this abstract: {x}'''\n",
    "    chat_completion = client.chat.completions.create(\n",
    "      model=\"gpt-3.5-turbo\",\n",
    "      messages=[\n",
    "            {\n",
    "                \"role\": \"user\",\n",
    "                \"content\": prompt,\n",
    "            }\n",
    "      ]\n",
    "    )\n",
    "    return int(chat_completion.choices[0].message.content)"
   ]
  },
  {
   "cell_type": "markdown",
   "id": "c53c82d3-66b4-4200-ac5e-8f6c0bca5da8",
   "metadata": {},
   "source": [
    "**Import data and run the model**:"
   ]
  },
  {
   "cell_type": "code",
   "execution_count": 11,
   "id": "cd371931-0385-4fb7-a159-13cb17abf6a8",
   "metadata": {},
   "outputs": [
    {
     "data": {
      "text/html": [
       "<div>\n",
       "<style scoped>\n",
       "    .dataframe tbody tr th:only-of-type {\n",
       "        vertical-align: middle;\n",
       "    }\n",
       "\n",
       "    .dataframe tbody tr th {\n",
       "        vertical-align: top;\n",
       "    }\n",
       "\n",
       "    .dataframe thead th {\n",
       "        text-align: right;\n",
       "    }\n",
       "</style>\n",
       "<table border=\"1\" class=\"dataframe\">\n",
       "  <thead>\n",
       "    <tr style=\"text-align: right;\">\n",
       "      <th></th>\n",
       "      <th>ID</th>\n",
       "      <th>TITLE</th>\n",
       "      <th>ABSTRACT</th>\n",
       "      <th>Computer Science</th>\n",
       "      <th>Physics</th>\n",
       "      <th>Mathematics</th>\n",
       "      <th>Statistics</th>\n",
       "      <th>Quantitative Biology</th>\n",
       "      <th>Quantitative Finance</th>\n",
       "    </tr>\n",
       "  </thead>\n",
       "  <tbody>\n",
       "    <tr>\n",
       "      <th>0</th>\n",
       "      <td>1</td>\n",
       "      <td>Reconstructing Subject-Specific Effect Maps</td>\n",
       "      <td>Predictive models allow subject-specific inf...</td>\n",
       "      <td>1</td>\n",
       "      <td>0</td>\n",
       "      <td>0</td>\n",
       "      <td>0</td>\n",
       "      <td>0</td>\n",
       "      <td>0</td>\n",
       "    </tr>\n",
       "    <tr>\n",
       "      <th>1</th>\n",
       "      <td>2</td>\n",
       "      <td>Rotation Invariance Neural Network</td>\n",
       "      <td>Rotation invariance and translation invarian...</td>\n",
       "      <td>1</td>\n",
       "      <td>0</td>\n",
       "      <td>0</td>\n",
       "      <td>0</td>\n",
       "      <td>0</td>\n",
       "      <td>0</td>\n",
       "    </tr>\n",
       "    <tr>\n",
       "      <th>2</th>\n",
       "      <td>3</td>\n",
       "      <td>Spherical polyharmonics and Poisson kernels fo...</td>\n",
       "      <td>We introduce and develop the notion of spher...</td>\n",
       "      <td>0</td>\n",
       "      <td>0</td>\n",
       "      <td>1</td>\n",
       "      <td>0</td>\n",
       "      <td>0</td>\n",
       "      <td>0</td>\n",
       "    </tr>\n",
       "    <tr>\n",
       "      <th>3</th>\n",
       "      <td>4</td>\n",
       "      <td>A finite element approximation for the stochas...</td>\n",
       "      <td>The stochastic Landau--Lifshitz--Gilbert (LL...</td>\n",
       "      <td>0</td>\n",
       "      <td>0</td>\n",
       "      <td>1</td>\n",
       "      <td>0</td>\n",
       "      <td>0</td>\n",
       "      <td>0</td>\n",
       "    </tr>\n",
       "    <tr>\n",
       "      <th>4</th>\n",
       "      <td>5</td>\n",
       "      <td>Comparative study of Discrete Wavelet Transfor...</td>\n",
       "      <td>Fourier-transform infra-red (FTIR) spectra o...</td>\n",
       "      <td>1</td>\n",
       "      <td>0</td>\n",
       "      <td>0</td>\n",
       "      <td>1</td>\n",
       "      <td>0</td>\n",
       "      <td>0</td>\n",
       "    </tr>\n",
       "  </tbody>\n",
       "</table>\n",
       "</div>"
      ],
      "text/plain": [
       "   ID                                              TITLE  \\\n",
       "0   1        Reconstructing Subject-Specific Effect Maps   \n",
       "1   2                 Rotation Invariance Neural Network   \n",
       "2   3  Spherical polyharmonics and Poisson kernels fo...   \n",
       "3   4  A finite element approximation for the stochas...   \n",
       "4   5  Comparative study of Discrete Wavelet Transfor...   \n",
       "\n",
       "                                            ABSTRACT  Computer Science  \\\n",
       "0    Predictive models allow subject-specific inf...                 1   \n",
       "1    Rotation invariance and translation invarian...                 1   \n",
       "2    We introduce and develop the notion of spher...                 0   \n",
       "3    The stochastic Landau--Lifshitz--Gilbert (LL...                 0   \n",
       "4    Fourier-transform infra-red (FTIR) spectra o...                 1   \n",
       "\n",
       "   Physics  Mathematics  Statistics  Quantitative Biology  \\\n",
       "0        0            0           0                     0   \n",
       "1        0            0           0                     0   \n",
       "2        0            1           0                     0   \n",
       "3        0            1           0                     0   \n",
       "4        0            0           1                     0   \n",
       "\n",
       "   Quantitative Finance  \n",
       "0                     0  \n",
       "1                     0  \n",
       "2                     0  \n",
       "3                     0  \n",
       "4                     0  "
      ]
     },
     "execution_count": 11,
     "metadata": {},
     "output_type": "execute_result"
    }
   ],
   "source": [
    "df = pd.read_csv(\"data/text-classification-train.csv\")\n",
    "df.head()"
   ]
  },
  {
   "cell_type": "code",
   "execution_count": 12,
   "id": "1fb7a72d-dfdb-4e3d-a222-5096d4ea78e3",
   "metadata": {},
   "outputs": [
    {
     "data": {
      "text/html": [
       "<div>\n",
       "<style scoped>\n",
       "    .dataframe tbody tr th:only-of-type {\n",
       "        vertical-align: middle;\n",
       "    }\n",
       "\n",
       "    .dataframe tbody tr th {\n",
       "        vertical-align: top;\n",
       "    }\n",
       "\n",
       "    .dataframe thead th {\n",
       "        text-align: right;\n",
       "    }\n",
       "</style>\n",
       "<table border=\"1\" class=\"dataframe\">\n",
       "  <thead>\n",
       "    <tr style=\"text-align: right;\">\n",
       "      <th></th>\n",
       "      <th>abstract</th>\n",
       "      <th>CS_actual</th>\n",
       "    </tr>\n",
       "  </thead>\n",
       "  <tbody>\n",
       "    <tr>\n",
       "      <th>0</th>\n",
       "      <td>Predictive models allow subject-specific inf...</td>\n",
       "      <td>1</td>\n",
       "    </tr>\n",
       "    <tr>\n",
       "      <th>1</th>\n",
       "      <td>Rotation invariance and translation invarian...</td>\n",
       "      <td>1</td>\n",
       "    </tr>\n",
       "    <tr>\n",
       "      <th>2</th>\n",
       "      <td>We introduce and develop the notion of spher...</td>\n",
       "      <td>0</td>\n",
       "    </tr>\n",
       "    <tr>\n",
       "      <th>3</th>\n",
       "      <td>The stochastic Landau--Lifshitz--Gilbert (LL...</td>\n",
       "      <td>0</td>\n",
       "    </tr>\n",
       "    <tr>\n",
       "      <th>4</th>\n",
       "      <td>Fourier-transform infra-red (FTIR) spectra o...</td>\n",
       "      <td>1</td>\n",
       "    </tr>\n",
       "    <tr>\n",
       "      <th>...</th>\n",
       "      <td>...</td>\n",
       "      <td>...</td>\n",
       "    </tr>\n",
       "    <tr>\n",
       "      <th>195</th>\n",
       "      <td>We relate the concepts used in decentralized...</td>\n",
       "      <td>0</td>\n",
       "    </tr>\n",
       "    <tr>\n",
       "      <th>196</th>\n",
       "      <td>Time-varying network topologies can deeply i...</td>\n",
       "      <td>1</td>\n",
       "    </tr>\n",
       "    <tr>\n",
       "      <th>197</th>\n",
       "      <td>A long-standing obstacle to progress in deep...</td>\n",
       "      <td>1</td>\n",
       "    </tr>\n",
       "    <tr>\n",
       "      <th>198</th>\n",
       "      <td>We study the band structure topology and eng...</td>\n",
       "      <td>0</td>\n",
       "    </tr>\n",
       "    <tr>\n",
       "      <th>199</th>\n",
       "      <td>Boundary value problems for Sturm-Liouville ...</td>\n",
       "      <td>0</td>\n",
       "    </tr>\n",
       "  </tbody>\n",
       "</table>\n",
       "<p>200 rows × 2 columns</p>\n",
       "</div>"
      ],
      "text/plain": [
       "                                              abstract  CS_actual\n",
       "0      Predictive models allow subject-specific inf...          1\n",
       "1      Rotation invariance and translation invarian...          1\n",
       "2      We introduce and develop the notion of spher...          0\n",
       "3      The stochastic Landau--Lifshitz--Gilbert (LL...          0\n",
       "4      Fourier-transform infra-red (FTIR) spectra o...          1\n",
       "..                                                 ...        ...\n",
       "195    We relate the concepts used in decentralized...          0\n",
       "196    Time-varying network topologies can deeply i...          1\n",
       "197    A long-standing obstacle to progress in deep...          1\n",
       "198    We study the band structure topology and eng...          0\n",
       "199    Boundary value problems for Sturm-Liouville ...          0\n",
       "\n",
       "[200 rows x 2 columns]"
      ]
     },
     "execution_count": 12,
     "metadata": {},
     "output_type": "execute_result"
    }
   ],
   "source": [
    "df_labeled = pd.DataFrame()\n",
    "df_labeled[\"abstract\"] = df[\"ABSTRACT\"][:200]\n",
    "df_labeled[\"CS_actual\"] = df[\"Computer Science\"][:200]\n",
    "df_labeled"
   ]
  },
  {
   "cell_type": "code",
   "execution_count": 15,
   "id": "392f8848-ddf2-43cc-b9fc-7ef1d0a89add",
   "metadata": {},
   "outputs": [
    {
     "name": "stderr",
     "output_type": "stream",
     "text": [
      "C:\\Users\\aharve\\AppData\\Local\\Temp\\ipykernel_13064\\2880502537.py:2: FutureWarning: ChainedAssignmentError: behaviour will change in pandas 3.0!\n",
      "You are setting values through chained assignment. Currently this works in certain cases, but when using Copy-on-Write (which will become the default behaviour in pandas 3.0) this will never work to update the original DataFrame or Series, because the intermediate object on which we are setting values will behave as a copy.\n",
      "A typical example is when you are setting values in a column of a DataFrame, like:\n",
      "\n",
      "df[\"col\"][row_indexer] = value\n",
      "\n",
      "Use `df.loc[row_indexer, \"col\"] = values` instead, to perform the assignment in a single step and ensure this keeps updating the original `df`.\n",
      "\n",
      "See the caveats in the documentation: https://pandas.pydata.org/pandas-docs/stable/user_guide/indexing.html#returning-a-view-versus-a-copy\n",
      "\n",
      "  df_labeled['GPT35_CS'][:5] = df_labeled['abstract'][:5].apply(label_abstract)\n",
      "C:\\Users\\aharve\\AppData\\Local\\Temp\\ipykernel_13064\\2880502537.py:2: SettingWithCopyWarning: \n",
      "A value is trying to be set on a copy of a slice from a DataFrame\n",
      "\n",
      "See the caveats in the documentation: https://pandas.pydata.org/pandas-docs/stable/user_guide/indexing.html#returning-a-view-versus-a-copy\n",
      "  df_labeled['GPT35_CS'][:5] = df_labeled['abstract'][:5].apply(label_abstract)\n"
     ]
    }
   ],
   "source": [
    "# Chunk 1 (test)\n",
    "df_labeled['GPT35_CS'][:5] = df_labeled['abstract'][:5].apply(label_abstract)"
   ]
  },
  {
   "cell_type": "code",
   "execution_count": 17,
   "id": "1625bd42-3cf6-48a9-be84-584a68f15bc9",
   "metadata": {},
   "outputs": [
    {
     "name": "stderr",
     "output_type": "stream",
     "text": [
      "C:\\Users\\aharve\\AppData\\Local\\Temp\\ipykernel_13064\\3592156869.py:1: SettingWithCopyWarning: \n",
      "A value is trying to be set on a copy of a slice from a DataFrame\n",
      "\n",
      "See the caveats in the documentation: https://pandas.pydata.org/pandas-docs/stable/user_guide/indexing.html#returning-a-view-versus-a-copy\n",
      "  df_labeled['GPT35_CS'][5:30] = df_labeled['abstract'][5:30].apply(label_abstract)\n"
     ]
    }
   ],
   "source": [
    "df_labeled['GPT35_CS'][5:30] = df_labeled['abstract'][5:30].apply(label_abstract)"
   ]
  },
  {
   "cell_type": "code",
   "execution_count": 18,
   "id": "91f57a98-89c3-46ae-826c-001becaa9e68",
   "metadata": {},
   "outputs": [
    {
     "name": "stderr",
     "output_type": "stream",
     "text": [
      "C:\\Users\\aharve\\AppData\\Local\\Temp\\ipykernel_13064\\3932993010.py:1: SettingWithCopyWarning: \n",
      "A value is trying to be set on a copy of a slice from a DataFrame\n",
      "\n",
      "See the caveats in the documentation: https://pandas.pydata.org/pandas-docs/stable/user_guide/indexing.html#returning-a-view-versus-a-copy\n",
      "  df_labeled['GPT35_CS'][30:100] = df_labeled['abstract'][30:100].apply(label_abstract)\n"
     ]
    }
   ],
   "source": [
    "df_labeled['GPT35_CS'][30:100] = df_labeled['abstract'][30:100].apply(label_abstract)"
   ]
  },
  {
   "cell_type": "code",
   "execution_count": 22,
   "id": "87eee545-ac87-4276-aa58-41170d330d8f",
   "metadata": {},
   "outputs": [
    {
     "name": "stderr",
     "output_type": "stream",
     "text": [
      "C:\\Users\\aharve\\AppData\\Local\\Temp\\ipykernel_13064\\2666247005.py:1: SettingWithCopyWarning: \n",
      "A value is trying to be set on a copy of a slice from a DataFrame\n",
      "\n",
      "See the caveats in the documentation: https://pandas.pydata.org/pandas-docs/stable/user_guide/indexing.html#returning-a-view-versus-a-copy\n",
      "  df_labeled['GPT35_CS'][100:150] = df_labeled['abstract'][100:150].apply(label_abstract)\n"
     ]
    }
   ],
   "source": [
    "df_labeled['GPT35_CS'][100:150] = df_labeled['abstract'][100:150].apply(label_abstract)"
   ]
  },
  {
   "cell_type": "code",
   "execution_count": 23,
   "id": "aacee7ba-9651-4c18-a57b-b2f35eaee36c",
   "metadata": {},
   "outputs": [
    {
     "name": "stderr",
     "output_type": "stream",
     "text": [
      "C:\\Users\\aharve\\AppData\\Local\\Temp\\ipykernel_13064\\4077563095.py:1: SettingWithCopyWarning: \n",
      "A value is trying to be set on a copy of a slice from a DataFrame\n",
      "\n",
      "See the caveats in the documentation: https://pandas.pydata.org/pandas-docs/stable/user_guide/indexing.html#returning-a-view-versus-a-copy\n",
      "  df_labeled['GPT35_CS'][150:200] = df_labeled['abstract'][150:200].apply(label_abstract)\n"
     ]
    }
   ],
   "source": [
    "df_labeled['GPT35_CS'][150:200] = df_labeled['abstract'][150:200].apply(label_abstract)"
   ]
  },
  {
   "cell_type": "code",
   "execution_count": 24,
   "id": "5c342d65-3173-491a-94fc-4a33f9b0bd12",
   "metadata": {},
   "outputs": [],
   "source": [
    "df_labeled.to_csv(\"gpt3-5_experiment.csv\")"
   ]
  },
  {
   "cell_type": "markdown",
   "id": "1a4c4a33-55c2-4b3d-a48c-7fe60b483cc4",
   "metadata": {},
   "source": [
    "### Evaluating GPT-3.5"
   ]
  },
  {
   "cell_type": "code",
   "execution_count": 26,
   "id": "f66db490-a5ac-44dd-b00a-f9902ced22a4",
   "metadata": {},
   "outputs": [
    {
     "data": {
      "text/plain": [
       "<Axes: >"
      ]
     },
     "execution_count": 26,
     "metadata": {},
     "output_type": "execute_result"
    },
    {
     "data": {
      "image/png": "[encoded data removed]",
      "text/plain": [
       "<Figure size 640x480 with 2 Axes>"
      ]
     },
     "metadata": {},
     "output_type": "display_data"
    }
   ],
   "source": [
    "# Source: https://medium.com/@dtuk81/confusion-matrix-visualization-fc31e3f30fea\n",
    "\n",
    "from sklearn.metrics import confusion_matrix\n",
    "import seaborn as sns\n",
    "import numpy as np\n",
    "\n",
    "cm = confusion_matrix(df_labeled['CS_actual'], df_labeled['GPT35_CS'])\n",
    "\n",
    "group_names = ['True Neg','False Pos','False Neg','True Pos']\n",
    "group_counts = [\"{0:0.0f}\".format(value) for value in\n",
    "                cm.flatten()]\n",
    "group_percentages = [\"{0:.2%}\".format(value) for value in\n",
    "                     cm.flatten()/np.sum(cm)]\n",
    "labels = [f\"{v1}\\n{v2}\\n{v3}\" for v1, v2, v3 in\n",
    "          zip(group_names,group_counts,group_percentages)]\n",
    "labels = np.asarray(labels).reshape(2,2)\n",
    "\n",
    "sns.heatmap(cm, annot=labels, fmt=\"\", cmap='Blues')"
   ]
  },
  {
   "cell_type": "code",
   "execution_count": 27,
   "id": "7a81f760-ae66-4005-ae48-b960513fd5df",
   "metadata": {},
   "outputs": [
    {
     "data": {
      "text/plain": [
       "0.63"
      ]
     },
     "execution_count": 27,
     "metadata": {},
     "output_type": "execute_result"
    }
   ],
   "source": [
    "tn = cm[0][0]\n",
    "fp = cm[0][1]\n",
    "fn = cm[1][0]\n",
    "tp = cm[1][1]\n",
    "\n",
    "# Accuracy: the percent of correctly classified data\n",
    "accuracy = (tn+tp)/(tn+fp+fn+tp)\n",
    "accuracy"
   ]
  },
  {
   "cell_type": "code",
   "execution_count": 28,
   "id": "9e0ae960-f3eb-4886-9c67-ed229e05f35f",
   "metadata": {},
   "outputs": [
    {
     "data": {
      "text/plain": [
       "0.5138888888888888"
      ]
     },
     "execution_count": 28,
     "metadata": {},
     "output_type": "execute_result"
    }
   ],
   "source": [
    "# Precision: positive predictive value; of those predicted as CS documents, how many were actually CS documents?\n",
    "precision = (tp)/(tp+fp)\n",
    "precision"
   ]
  },
  {
   "cell_type": "code",
   "execution_count": 29,
   "id": "5d5e6ff0-9bd0-4128-85aa-6f3a11688b15",
   "metadata": {},
   "outputs": [
    {
     "data": {
      "text/plain": [
       "0.9487179487179487"
      ]
     },
     "execution_count": 29,
     "metadata": {},
     "output_type": "execute_result"
    }
   ],
   "source": [
    "# Recall: of those that were actually CS documents, how many were predicted as CS documents?\n",
    "recall = (tp)/(tp+fn)\n",
    "recall"
   ]
  },
  {
   "cell_type": "code",
   "execution_count": 30,
   "id": "6e4a0831-92d5-4633-b7c4-5efae5f36692",
   "metadata": {},
   "outputs": [
    {
     "data": {
      "text/plain": [
       "0.6666666666666666"
      ]
     },
     "execution_count": 30,
     "metadata": {},
     "output_type": "execute_result"
    }
   ],
   "source": [
    "# F1 score: tries to balance precision and recall, with uneven class distribution (large number of actual negs)\n",
    "f1 = 2*((precision*recall)/(precision+recall))\n",
    "f1"
   ]
  },
  {
   "cell_type": "markdown",
   "id": "eb5e7375-085f-4583-8e1a-c0b8f2334aef",
   "metadata": {},
   "source": [
    "GPT 3.5 performs worse than even Llama 3 8B, but better than Mistral 7B."
   ]
  }
 ],
 "metadata": {
  "kernelspec": {
   "display_name": "Python 3 (ipykernel)",
   "language": "python",
   "name": "python3"
  },
  "language_info": {
   "codemirror_mode": {
    "name": "ipython",
    "version": 3
   },
   "file_extension": ".py",
   "mimetype": "text/x-python",
   "name": "python",
   "nbconvert_exporter": "python",
   "pygments_lexer": "ipython3",
   "version": "3.12.4"
  }
 },
 "nbformat": 4,
 "nbformat_minor": 5
}
