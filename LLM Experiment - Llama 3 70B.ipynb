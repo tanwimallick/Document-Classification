{
 "cells": [
  {
   "cell_type": "markdown",
   "id": "66af78f9-57a7-4f8f-8522-c6fe3636d6c4",
   "metadata": {},
   "source": [
    "# LLM Validation - Llama 3 70B\n",
    "In this experiment, we experiment with a more powerful, larger model to see if it produces better classification results than less powerful models. We use Groq AI, which has generous rate limits and allows for insanely fast inference."
   ]
  },
  {
   "cell_type": "code",
   "execution_count": 9,
   "id": "f8441025-33ab-4961-be91-d1e5be1225fb",
   "metadata": {},
   "outputs": [],
   "source": [
    "from groq import Groq\n",
    "import pandas as pd"
   ]
  },
  {
   "cell_type": "markdown",
   "id": "0e3fd5a3-e52a-4f77-a620-430dc49c11a1",
   "metadata": {},
   "source": [
    "**Define inference function**"
   ]
  },
  {
   "cell_type": "code",
   "execution_count": null,
   "id": "38c1fd17-d79c-422a-8dd6-cda0dccb850e",
   "metadata": {},
   "outputs": [],
   "source": [
    "client = Groq(\n",
    "    api_key=\"\",\n",
    ")"
   ]
  },
  {
   "cell_type": "code",
   "execution_count": 13,
   "id": "c9472362-748b-4e0f-a547-179659e827af",
   "metadata": {},
   "outputs": [],
   "source": [
    "def label_abstract(x):\n",
    "    prompt = f'''I will paste an abstract from a research article. I want you\n",
    "            to respond \"1\" if the abstract comes from a paper in the computer science field, and \"0\"\n",
    "            if it doesn't or if you are not sure. Do not include anything else in your response; just\n",
    "            the number. Please classify this abstract: {x}'''\n",
    "    chat_completion = client.chat.completions.create(\n",
    "        messages=[\n",
    "            {\n",
    "                \"role\": \"user\",\n",
    "                \"content\": prompt,\n",
    "            }\n",
    "        ],\n",
    "        model=\"llama3-70b-8192\",\n",
    "    )\n",
    "    return int(chat_completion.choices[0].message.content)"
   ]
  },
  {
   "cell_type": "markdown",
   "id": "d7f02f20-cc08-4739-8421-b5376b959ba1",
   "metadata": {},
   "source": [
    "**Import data and run the model**:"
   ]
  },
  {
   "cell_type": "code",
   "execution_count": 14,
   "id": "082e8181-0c3c-43bd-9234-26c9ab85fb96",
   "metadata": {},
   "outputs": [
    {
     "data": {
      "text/html": [
       "<div>\n",
       "<style scoped>\n",
       "    .dataframe tbody tr th:only-of-type {\n",
       "        vertical-align: middle;\n",
       "    }\n",
       "\n",
       "    .dataframe tbody tr th {\n",
       "        vertical-align: top;\n",
       "    }\n",
       "\n",
       "    .dataframe thead th {\n",
       "        text-align: right;\n",
       "    }\n",
       "</style>\n",
       "<table border=\"1\" class=\"dataframe\">\n",
       "  <thead>\n",
       "    <tr style=\"text-align: right;\">\n",
       "      <th></th>\n",
       "      <th>ID</th>\n",
       "      <th>TITLE</th>\n",
       "      <th>ABSTRACT</th>\n",
       "      <th>Computer Science</th>\n",
       "      <th>Physics</th>\n",
       "      <th>Mathematics</th>\n",
       "      <th>Statistics</th>\n",
       "      <th>Quantitative Biology</th>\n",
       "      <th>Quantitative Finance</th>\n",
       "    </tr>\n",
       "  </thead>\n",
       "  <tbody>\n",
       "    <tr>\n",
       "      <th>0</th>\n",
       "      <td>1</td>\n",
       "      <td>Reconstructing Subject-Specific Effect Maps</td>\n",
       "      <td>Predictive models allow subject-specific inf...</td>\n",
       "      <td>1</td>\n",
       "      <td>0</td>\n",
       "      <td>0</td>\n",
       "      <td>0</td>\n",
       "      <td>0</td>\n",
       "      <td>0</td>\n",
       "    </tr>\n",
       "    <tr>\n",
       "      <th>1</th>\n",
       "      <td>2</td>\n",
       "      <td>Rotation Invariance Neural Network</td>\n",
       "      <td>Rotation invariance and translation invarian...</td>\n",
       "      <td>1</td>\n",
       "      <td>0</td>\n",
       "      <td>0</td>\n",
       "      <td>0</td>\n",
       "      <td>0</td>\n",
       "      <td>0</td>\n",
       "    </tr>\n",
       "    <tr>\n",
       "      <th>2</th>\n",
       "      <td>3</td>\n",
       "      <td>Spherical polyharmonics and Poisson kernels fo...</td>\n",
       "      <td>We introduce and develop the notion of spher...</td>\n",
       "      <td>0</td>\n",
       "      <td>0</td>\n",
       "      <td>1</td>\n",
       "      <td>0</td>\n",
       "      <td>0</td>\n",
       "      <td>0</td>\n",
       "    </tr>\n",
       "    <tr>\n",
       "      <th>3</th>\n",
       "      <td>4</td>\n",
       "      <td>A finite element approximation for the stochas...</td>\n",
       "      <td>The stochastic Landau--Lifshitz--Gilbert (LL...</td>\n",
       "      <td>0</td>\n",
       "      <td>0</td>\n",
       "      <td>1</td>\n",
       "      <td>0</td>\n",
       "      <td>0</td>\n",
       "      <td>0</td>\n",
       "    </tr>\n",
       "    <tr>\n",
       "      <th>4</th>\n",
       "      <td>5</td>\n",
       "      <td>Comparative study of Discrete Wavelet Transfor...</td>\n",
       "      <td>Fourier-transform infra-red (FTIR) spectra o...</td>\n",
       "      <td>1</td>\n",
       "      <td>0</td>\n",
       "      <td>0</td>\n",
       "      <td>1</td>\n",
       "      <td>0</td>\n",
       "      <td>0</td>\n",
       "    </tr>\n",
       "  </tbody>\n",
       "</table>\n",
       "</div>"
      ],
      "text/plain": [
       "   ID                                              TITLE  \\\n",
       "0   1        Reconstructing Subject-Specific Effect Maps   \n",
       "1   2                 Rotation Invariance Neural Network   \n",
       "2   3  Spherical polyharmonics and Poisson kernels fo...   \n",
       "3   4  A finite element approximation for the stochas...   \n",
       "4   5  Comparative study of Discrete Wavelet Transfor...   \n",
       "\n",
       "                                            ABSTRACT  Computer Science  \\\n",
       "0    Predictive models allow subject-specific inf...                 1   \n",
       "1    Rotation invariance and translation invarian...                 1   \n",
       "2    We introduce and develop the notion of spher...                 0   \n",
       "3    The stochastic Landau--Lifshitz--Gilbert (LL...                 0   \n",
       "4    Fourier-transform infra-red (FTIR) spectra o...                 1   \n",
       "\n",
       "   Physics  Mathematics  Statistics  Quantitative Biology  \\\n",
       "0        0            0           0                     0   \n",
       "1        0            0           0                     0   \n",
       "2        0            1           0                     0   \n",
       "3        0            1           0                     0   \n",
       "4        0            0           1                     0   \n",
       "\n",
       "   Quantitative Finance  \n",
       "0                     0  \n",
       "1                     0  \n",
       "2                     0  \n",
       "3                     0  \n",
       "4                     0  "
      ]
     },
     "execution_count": 14,
     "metadata": {},
     "output_type": "execute_result"
    }
   ],
   "source": [
    "df = pd.read_csv(\"data/text-classification-train.csv\")\n",
    "df.head()"
   ]
  },
  {
   "cell_type": "code",
   "execution_count": 15,
   "id": "5364ca4e-975e-4bd5-b407-71a4191e37b4",
   "metadata": {},
   "outputs": [
    {
     "data": {
      "text/html": [
       "<div>\n",
       "<style scoped>\n",
       "    .dataframe tbody tr th:only-of-type {\n",
       "        vertical-align: middle;\n",
       "    }\n",
       "\n",
       "    .dataframe tbody tr th {\n",
       "        vertical-align: top;\n",
       "    }\n",
       "\n",
       "    .dataframe thead th {\n",
       "        text-align: right;\n",
       "    }\n",
       "</style>\n",
       "<table border=\"1\" class=\"dataframe\">\n",
       "  <thead>\n",
       "    <tr style=\"text-align: right;\">\n",
       "      <th></th>\n",
       "      <th>abstract</th>\n",
       "      <th>CS_actual</th>\n",
       "    </tr>\n",
       "  </thead>\n",
       "  <tbody>\n",
       "    <tr>\n",
       "      <th>0</th>\n",
       "      <td>Predictive models allow subject-specific inf...</td>\n",
       "      <td>1</td>\n",
       "    </tr>\n",
       "    <tr>\n",
       "      <th>1</th>\n",
       "      <td>Rotation invariance and translation invarian...</td>\n",
       "      <td>1</td>\n",
       "    </tr>\n",
       "    <tr>\n",
       "      <th>2</th>\n",
       "      <td>We introduce and develop the notion of spher...</td>\n",
       "      <td>0</td>\n",
       "    </tr>\n",
       "    <tr>\n",
       "      <th>3</th>\n",
       "      <td>The stochastic Landau--Lifshitz--Gilbert (LL...</td>\n",
       "      <td>0</td>\n",
       "    </tr>\n",
       "    <tr>\n",
       "      <th>4</th>\n",
       "      <td>Fourier-transform infra-red (FTIR) spectra o...</td>\n",
       "      <td>1</td>\n",
       "    </tr>\n",
       "    <tr>\n",
       "      <th>...</th>\n",
       "      <td>...</td>\n",
       "      <td>...</td>\n",
       "    </tr>\n",
       "    <tr>\n",
       "      <th>195</th>\n",
       "      <td>We relate the concepts used in decentralized...</td>\n",
       "      <td>0</td>\n",
       "    </tr>\n",
       "    <tr>\n",
       "      <th>196</th>\n",
       "      <td>Time-varying network topologies can deeply i...</td>\n",
       "      <td>1</td>\n",
       "    </tr>\n",
       "    <tr>\n",
       "      <th>197</th>\n",
       "      <td>A long-standing obstacle to progress in deep...</td>\n",
       "      <td>1</td>\n",
       "    </tr>\n",
       "    <tr>\n",
       "      <th>198</th>\n",
       "      <td>We study the band structure topology and eng...</td>\n",
       "      <td>0</td>\n",
       "    </tr>\n",
       "    <tr>\n",
       "      <th>199</th>\n",
       "      <td>Boundary value problems for Sturm-Liouville ...</td>\n",
       "      <td>0</td>\n",
       "    </tr>\n",
       "  </tbody>\n",
       "</table>\n",
       "<p>200 rows × 2 columns</p>\n",
       "</div>"
      ],
      "text/plain": [
       "                                              abstract  CS_actual\n",
       "0      Predictive models allow subject-specific inf...          1\n",
       "1      Rotation invariance and translation invarian...          1\n",
       "2      We introduce and develop the notion of spher...          0\n",
       "3      The stochastic Landau--Lifshitz--Gilbert (LL...          0\n",
       "4      Fourier-transform infra-red (FTIR) spectra o...          1\n",
       "..                                                 ...        ...\n",
       "195    We relate the concepts used in decentralized...          0\n",
       "196    Time-varying network topologies can deeply i...          1\n",
       "197    A long-standing obstacle to progress in deep...          1\n",
       "198    We study the band structure topology and eng...          0\n",
       "199    Boundary value problems for Sturm-Liouville ...          0\n",
       "\n",
       "[200 rows x 2 columns]"
      ]
     },
     "execution_count": 15,
     "metadata": {},
     "output_type": "execute_result"
    }
   ],
   "source": [
    "df_labeled = pd.DataFrame()\n",
    "df_labeled[\"abstract\"] = df[\"ABSTRACT\"][:200]\n",
    "df_labeled[\"CS_actual\"] = df[\"Computer Science\"][:200]\n",
    "df_labeled"
   ]
  },
  {
   "cell_type": "code",
   "execution_count": 18,
   "id": "2a9d0ae0-7684-4e95-a0d1-269b317e343e",
   "metadata": {},
   "outputs": [
    {
     "name": "stderr",
     "output_type": "stream",
     "text": [
      "C:\\Users\\aharve\\AppData\\Local\\Temp\\ipykernel_17564\\1054694634.py:2: FutureWarning: ChainedAssignmentError: behaviour will change in pandas 3.0!\n",
      "You are setting values through chained assignment. Currently this works in certain cases, but when using Copy-on-Write (which will become the default behaviour in pandas 3.0) this will never work to update the original DataFrame or Series, because the intermediate object on which we are setting values will behave as a copy.\n",
      "A typical example is when you are setting values in a column of a DataFrame, like:\n",
      "\n",
      "df[\"col\"][row_indexer] = value\n",
      "\n",
      "Use `df.loc[row_indexer, \"col\"] = values` instead, to perform the assignment in a single step and ensure this keeps updating the original `df`.\n",
      "\n",
      "See the caveats in the documentation: https://pandas.pydata.org/pandas-docs/stable/user_guide/indexing.html#returning-a-view-versus-a-copy\n",
      "\n",
      "  df_labeled['Llama3_70B_CS'][:5] = df_labeled['abstract'][:5].apply(label_abstract)\n",
      "C:\\Users\\aharve\\AppData\\Local\\Temp\\ipykernel_17564\\1054694634.py:2: SettingWithCopyWarning: \n",
      "A value is trying to be set on a copy of a slice from a DataFrame\n",
      "\n",
      "See the caveats in the documentation: https://pandas.pydata.org/pandas-docs/stable/user_guide/indexing.html#returning-a-view-versus-a-copy\n",
      "  df_labeled['Llama3_70B_CS'][:5] = df_labeled['abstract'][:5].apply(label_abstract)\n"
     ]
    }
   ],
   "source": [
    "# Chunk 1 (test)\n",
    "df_labeled['Llama3_70B_CS'][:5] = df_labeled['abstract'][:5].apply(label_abstract)"
   ]
  },
  {
   "cell_type": "code",
   "execution_count": 20,
   "id": "5a557ffe-ff81-4962-9021-15bad5917124",
   "metadata": {},
   "outputs": [
    {
     "name": "stderr",
     "output_type": "stream",
     "text": [
      "C:\\Users\\aharve\\AppData\\Local\\Temp\\ipykernel_17564\\2420500894.py:2: SettingWithCopyWarning: \n",
      "A value is trying to be set on a copy of a slice from a DataFrame\n",
      "\n",
      "See the caveats in the documentation: https://pandas.pydata.org/pandas-docs/stable/user_guide/indexing.html#returning-a-view-versus-a-copy\n",
      "  df_labeled['Llama3_70B_CS'][5:20] = df_labeled['abstract'][5:20].apply(label_abstract)\n"
     ]
    }
   ],
   "source": [
    "# Chunk 2\n",
    "df_labeled['Llama3_70B_CS'][5:20] = df_labeled['abstract'][5:20].apply(label_abstract)"
   ]
  },
  {
   "cell_type": "code",
   "execution_count": 21,
   "id": "c9fd51c2-ee2e-443e-9c17-ecdc454e866f",
   "metadata": {},
   "outputs": [
    {
     "name": "stderr",
     "output_type": "stream",
     "text": [
      "C:\\Users\\aharve\\AppData\\Local\\Temp\\ipykernel_17564\\2481692242.py:2: SettingWithCopyWarning: \n",
      "A value is trying to be set on a copy of a slice from a DataFrame\n",
      "\n",
      "See the caveats in the documentation: https://pandas.pydata.org/pandas-docs/stable/user_guide/indexing.html#returning-a-view-versus-a-copy\n",
      "  df_labeled['Llama3_70B_CS'][20:40] = df_labeled['abstract'][20:40].apply(label_abstract)\n"
     ]
    }
   ],
   "source": [
    "# Chunk 3\n",
    "df_labeled['Llama3_70B_CS'][20:40] = df_labeled['abstract'][20:40].apply(label_abstract)"
   ]
  },
  {
   "cell_type": "code",
   "execution_count": 22,
   "id": "27c2e41e-4c37-42f4-b3dc-55d37dab5996",
   "metadata": {},
   "outputs": [
    {
     "name": "stderr",
     "output_type": "stream",
     "text": [
      "C:\\Users\\aharve\\AppData\\Local\\Temp\\ipykernel_17564\\1209347954.py:1: SettingWithCopyWarning: \n",
      "A value is trying to be set on a copy of a slice from a DataFrame\n",
      "\n",
      "See the caveats in the documentation: https://pandas.pydata.org/pandas-docs/stable/user_guide/indexing.html#returning-a-view-versus-a-copy\n",
      "  df_labeled['Llama3_70B_CS'][40:60] = df_labeled['abstract'][40:60].apply(label_abstract)\n"
     ]
    }
   ],
   "source": [
    "df_labeled['Llama3_70B_CS'][40:60] = df_labeled['abstract'][40:60].apply(label_abstract)"
   ]
  },
  {
   "cell_type": "code",
   "execution_count": 23,
   "id": "7aae9d87-b203-43cb-a9d7-cb5c0b4dba2a",
   "metadata": {},
   "outputs": [
    {
     "name": "stderr",
     "output_type": "stream",
     "text": [
      "C:\\Users\\aharve\\AppData\\Local\\Temp\\ipykernel_17564\\136279750.py:1: SettingWithCopyWarning: \n",
      "A value is trying to be set on a copy of a slice from a DataFrame\n",
      "\n",
      "See the caveats in the documentation: https://pandas.pydata.org/pandas-docs/stable/user_guide/indexing.html#returning-a-view-versus-a-copy\n",
      "  df_labeled['Llama3_70B_CS'][60:80] = df_labeled['abstract'][60:80].apply(label_abstract)\n"
     ]
    }
   ],
   "source": [
    "df_labeled['Llama3_70B_CS'][60:80] = df_labeled['abstract'][60:80].apply(label_abstract)"
   ]
  },
  {
   "cell_type": "code",
   "execution_count": 25,
   "id": "bf9b3ddc-669c-4d51-acda-dd45892914d5",
   "metadata": {},
   "outputs": [
    {
     "name": "stderr",
     "output_type": "stream",
     "text": [
      "C:\\Users\\aharve\\AppData\\Local\\Temp\\ipykernel_17564\\2970635596.py:1: SettingWithCopyWarning: \n",
      "A value is trying to be set on a copy of a slice from a DataFrame\n",
      "\n",
      "See the caveats in the documentation: https://pandas.pydata.org/pandas-docs/stable/user_guide/indexing.html#returning-a-view-versus-a-copy\n",
      "  df_labeled['Llama3_70B_CS'][80:100] = df_labeled['abstract'][80:100].apply(label_abstract)\n"
     ]
    }
   ],
   "source": [
    "df_labeled['Llama3_70B_CS'][80:100] = df_labeled['abstract'][80:100].apply(label_abstract)"
   ]
  },
  {
   "cell_type": "code",
   "execution_count": 26,
   "id": "b0087e93-c875-4a40-aa53-3fbc450c0026",
   "metadata": {},
   "outputs": [
    {
     "name": "stderr",
     "output_type": "stream",
     "text": [
      "C:\\Users\\aharve\\AppData\\Local\\Temp\\ipykernel_17564\\1287123102.py:1: SettingWithCopyWarning: \n",
      "A value is trying to be set on a copy of a slice from a DataFrame\n",
      "\n",
      "See the caveats in the documentation: https://pandas.pydata.org/pandas-docs/stable/user_guide/indexing.html#returning-a-view-versus-a-copy\n",
      "  df_labeled['Llama3_70B_CS'][100:120] = df_labeled['abstract'][100:120].apply(label_abstract)\n"
     ]
    }
   ],
   "source": [
    "df_labeled['Llama3_70B_CS'][100:120] = df_labeled['abstract'][100:120].apply(label_abstract)"
   ]
  },
  {
   "cell_type": "code",
   "execution_count": 27,
   "id": "2d0f7403-7ec5-42a8-8a26-a6693ecb832d",
   "metadata": {},
   "outputs": [
    {
     "name": "stderr",
     "output_type": "stream",
     "text": [
      "C:\\Users\\aharve\\AppData\\Local\\Temp\\ipykernel_17564\\1196345211.py:1: SettingWithCopyWarning: \n",
      "A value is trying to be set on a copy of a slice from a DataFrame\n",
      "\n",
      "See the caveats in the documentation: https://pandas.pydata.org/pandas-docs/stable/user_guide/indexing.html#returning-a-view-versus-a-copy\n",
      "  df_labeled['Llama3_70B_CS'][120:140] = df_labeled['abstract'][120:140].apply(label_abstract)\n"
     ]
    }
   ],
   "source": [
    "df_labeled['Llama3_70B_CS'][120:140] = df_labeled['abstract'][120:140].apply(label_abstract)"
   ]
  },
  {
   "cell_type": "code",
   "execution_count": 28,
   "id": "4150af1f-330c-4536-924c-0f9db748a58e",
   "metadata": {},
   "outputs": [
    {
     "name": "stderr",
     "output_type": "stream",
     "text": [
      "C:\\Users\\aharve\\AppData\\Local\\Temp\\ipykernel_17564\\3142243585.py:1: SettingWithCopyWarning: \n",
      "A value is trying to be set on a copy of a slice from a DataFrame\n",
      "\n",
      "See the caveats in the documentation: https://pandas.pydata.org/pandas-docs/stable/user_guide/indexing.html#returning-a-view-versus-a-copy\n",
      "  df_labeled['Llama3_70B_CS'][140:160] = df_labeled['abstract'][140:160].apply(label_abstract)\n"
     ]
    }
   ],
   "source": [
    "df_labeled['Llama3_70B_CS'][140:160] = df_labeled['abstract'][140:160].apply(label_abstract)"
   ]
  },
  {
   "cell_type": "code",
   "execution_count": 29,
   "id": "084e01f3-a9ef-48e1-9002-d8cb9f0d16a5",
   "metadata": {},
   "outputs": [
    {
     "name": "stderr",
     "output_type": "stream",
     "text": [
      "C:\\Users\\aharve\\AppData\\Local\\Temp\\ipykernel_17564\\3687364988.py:1: SettingWithCopyWarning: \n",
      "A value is trying to be set on a copy of a slice from a DataFrame\n",
      "\n",
      "See the caveats in the documentation: https://pandas.pydata.org/pandas-docs/stable/user_guide/indexing.html#returning-a-view-versus-a-copy\n",
      "  df_labeled['Llama3_70B_CS'][160:180] = df_labeled['abstract'][160:180].apply(label_abstract)\n"
     ]
    }
   ],
   "source": [
    "df_labeled['Llama3_70B_CS'][160:180] = df_labeled['abstract'][160:180].apply(label_abstract)"
   ]
  },
  {
   "cell_type": "code",
   "execution_count": 30,
   "id": "4eedc253-0626-4b82-8028-7b3e29bc2564",
   "metadata": {},
   "outputs": [
    {
     "name": "stderr",
     "output_type": "stream",
     "text": [
      "C:\\Users\\aharve\\AppData\\Local\\Temp\\ipykernel_17564\\1774564994.py:1: SettingWithCopyWarning: \n",
      "A value is trying to be set on a copy of a slice from a DataFrame\n",
      "\n",
      "See the caveats in the documentation: https://pandas.pydata.org/pandas-docs/stable/user_guide/indexing.html#returning-a-view-versus-a-copy\n",
      "  df_labeled['Llama3_70B_CS'][180:200] = df_labeled['abstract'][180:200].apply(label_abstract)\n"
     ]
    }
   ],
   "source": [
    "df_labeled['Llama3_70B_CS'][180:200] = df_labeled['abstract'][180:200].apply(label_abstract)"
   ]
  },
  {
   "cell_type": "code",
   "execution_count": 31,
   "id": "9fa98973-d2a8-4c02-8b50-a2e47bff50d2",
   "metadata": {},
   "outputs": [],
   "source": [
    "df_labeled.to_csv(\"llama3_70b_experiment.csv\")"
   ]
  },
  {
   "cell_type": "markdown",
   "id": "e9962bc5-9d1d-4f47-b6c1-a2004593f958",
   "metadata": {},
   "source": [
    "### Evaluating Llama3 70B"
   ]
  },
  {
   "cell_type": "code",
   "execution_count": 40,
   "id": "83eebecb-1f58-4d0b-922f-9db575941c02",
   "metadata": {},
   "outputs": [
    {
     "data": {
      "text/html": [
       "<div>\n",
       "<style scoped>\n",
       "    .dataframe tbody tr th:only-of-type {\n",
       "        vertical-align: middle;\n",
       "    }\n",
       "\n",
       "    .dataframe tbody tr th {\n",
       "        vertical-align: top;\n",
       "    }\n",
       "\n",
       "    .dataframe thead th {\n",
       "        text-align: right;\n",
       "    }\n",
       "</style>\n",
       "<table border=\"1\" class=\"dataframe\">\n",
       "  <thead>\n",
       "    <tr style=\"text-align: right;\">\n",
       "      <th></th>\n",
       "      <th>abstract</th>\n",
       "      <th>CS_actual</th>\n",
       "      <th>Llama3_70B_CS</th>\n",
       "    </tr>\n",
       "  </thead>\n",
       "  <tbody>\n",
       "    <tr>\n",
       "      <th>0</th>\n",
       "      <td>Predictive models allow subject-specific inf...</td>\n",
       "      <td>1</td>\n",
       "      <td>1</td>\n",
       "    </tr>\n",
       "    <tr>\n",
       "      <th>1</th>\n",
       "      <td>Rotation invariance and translation invarian...</td>\n",
       "      <td>1</td>\n",
       "      <td>1</td>\n",
       "    </tr>\n",
       "    <tr>\n",
       "      <th>2</th>\n",
       "      <td>We introduce and develop the notion of spher...</td>\n",
       "      <td>0</td>\n",
       "      <td>0</td>\n",
       "    </tr>\n",
       "    <tr>\n",
       "      <th>3</th>\n",
       "      <td>The stochastic Landau--Lifshitz--Gilbert (LL...</td>\n",
       "      <td>0</td>\n",
       "      <td>0</td>\n",
       "    </tr>\n",
       "    <tr>\n",
       "      <th>4</th>\n",
       "      <td>Fourier-transform infra-red (FTIR) spectra o...</td>\n",
       "      <td>1</td>\n",
       "      <td>1</td>\n",
       "    </tr>\n",
       "  </tbody>\n",
       "</table>\n",
       "</div>"
      ],
      "text/plain": [
       "                                            abstract  CS_actual  Llama3_70B_CS\n",
       "0    Predictive models allow subject-specific inf...          1              1\n",
       "1    Rotation invariance and translation invarian...          1              1\n",
       "2    We introduce and develop the notion of spher...          0              0\n",
       "3    The stochastic Landau--Lifshitz--Gilbert (LL...          0              0\n",
       "4    Fourier-transform infra-red (FTIR) spectra o...          1              1"
      ]
     },
     "execution_count": 40,
     "metadata": {},
     "output_type": "execute_result"
    }
   ],
   "source": [
    "df_labeled = pd.read_csv(\"data/llama3_70b_experiment.csv\")\n",
    "df_labeled.head()"
   ]
  },
  {
   "cell_type": "code",
   "execution_count": 35,
   "id": "85ab37c8-68b2-4702-8c43-61ffb6bbce7a",
   "metadata": {},
   "outputs": [
    {
     "data": {
      "text/plain": [
       "<Axes: >"
      ]
     },
     "execution_count": 35,
     "metadata": {},
     "output_type": "execute_result"
    },
    {
     "data": {
      "image/png": "[encoded data removed]",
      "text/plain": [
       "<Figure size 640x480 with 2 Axes>"
      ]
     },
     "metadata": {},
     "output_type": "display_data"
    }
   ],
   "source": [
    "# Source: https://medium.com/@dtuk81/confusion-matrix-visualization-fc31e3f30fea\n",
    "\n",
    "from sklearn.metrics import confusion_matrix\n",
    "import seaborn as sns\n",
    "import numpy as np\n",
    "\n",
    "cm = confusion_matrix(df_labeled['CS_actual'], df_labeled['Llama3_70B_CS'])\n",
    "\n",
    "group_names = ['True Neg','False Pos','False Neg','True Pos']\n",
    "group_counts = [\"{0:0.0f}\".format(value) for value in\n",
    "                cm.flatten()]\n",
    "group_percentages = [\"{0:.2%}\".format(value) for value in\n",
    "                     cm.flatten()/np.sum(cm)]\n",
    "labels = [f\"{v1}\\n{v2}\\n{v3}\" for v1, v2, v3 in\n",
    "          zip(group_names,group_counts,group_percentages)]\n",
    "labels = np.asarray(labels).reshape(2,2)\n",
    "\n",
    "sns.heatmap(cm, annot=labels, fmt=\"\", cmap='Blues')"
   ]
  },
  {
   "cell_type": "code",
   "execution_count": 36,
   "id": "c2e25bb3-28eb-4b1b-af48-13cb478b30d6",
   "metadata": {},
   "outputs": [
    {
     "data": {
      "text/plain": [
       "0.895"
      ]
     },
     "execution_count": 36,
     "metadata": {},
     "output_type": "execute_result"
    }
   ],
   "source": [
    "tn = cm[0][0]\n",
    "fp = cm[0][1]\n",
    "fn = cm[1][0]\n",
    "tp = cm[1][1]\n",
    "\n",
    "# Accuracy: the percent of correctly classified data\n",
    "accuracy = (tn+tp)/(tn+fp+fn+tp)\n",
    "accuracy"
   ]
  },
  {
   "cell_type": "code",
   "execution_count": 37,
   "id": "3aa78cc3-0fef-4347-9cff-e950f7264198",
   "metadata": {},
   "outputs": [
    {
     "data": {
      "text/plain": [
       "0.8202247191011236"
      ]
     },
     "execution_count": 37,
     "metadata": {},
     "output_type": "execute_result"
    }
   ],
   "source": [
    "# Precision: positive predictive value; of those predicted as CS documents, how many were actually CS documents?\n",
    "precision = (tp)/(tp+fp)\n",
    "precision"
   ]
  },
  {
   "cell_type": "code",
   "execution_count": 38,
   "id": "0158b395-7c3e-4c9b-86fc-580d80b24bbe",
   "metadata": {},
   "outputs": [
    {
     "data": {
      "text/plain": [
       "0.9358974358974359"
      ]
     },
     "execution_count": 38,
     "metadata": {},
     "output_type": "execute_result"
    }
   ],
   "source": [
    "# Recall: of those that were actually CS documents, how many were predicted as CS documents?\n",
    "recall = (tp)/(tp+fn)\n",
    "recall"
   ]
  },
  {
   "cell_type": "code",
   "execution_count": 39,
   "id": "59cb9cc4-7112-4c69-ab21-3a5b85ee5357",
   "metadata": {},
   "outputs": [
    {
     "data": {
      "text/plain": [
       "0.874251497005988"
      ]
     },
     "execution_count": 39,
     "metadata": {},
     "output_type": "execute_result"
    }
   ],
   "source": [
    "    # F1 score: tries to balance precision and recall, with uneven class distribution (large number of actual negs)\n",
    "    f1 = 2*((precision*recall)/(precision+recall))\n",
    "    f1"
   ]
  },
  {
   "cell_type": "markdown",
   "id": "ad20d7b7-62c3-49c4-8871-a19d1cff8675",
   "metadata": {},
   "source": [
    "This is the best model so far! It scores better than in-context learning Llama 3 8B on virtually every metric: higher accuracy (84% vs. 89.5%), higher precision (74% vs. 82%), higher recall (91% vs. 93%), and a higher F1-score (0.81 vs. 0.87). It shows that more powerful models will probably classify documents better, similar to how more powerful, larger embedding models did better than smaller ones. Notably, inference in this experiment was also incredibly fast, since I used Groq AI, which has pretty generous rate limits."
   ]
  },
  {
   "cell_type": "markdown",
   "id": "25ce3cbc-f0fd-4643-bd47-b870c837f06c",
   "metadata": {},
   "source": [
    "### Qualitative analysis"
   ]
  },
  {
   "cell_type": "markdown",
   "id": "01a973b0-26c9-4f77-a72d-89cf23b8210f",
   "metadata": {},
   "source": [
    "This model misclassified 21 documents in the dataset, representing around ~10% of the dataset. We will now see what mistakes it makes. Previous qualitative analysis has yielded that many consistently "
   ]
  }
 ],
 "metadata": {
  "kernelspec": {
   "display_name": "Python 3 (ipykernel)",
   "language": "python",
   "name": "python3"
  },
  "language_info": {
   "codemirror_mode": {
    "name": "ipython",
    "version": 3
   },
   "file_extension": ".py",
   "mimetype": "text/x-python",
   "name": "python",
   "nbconvert_exporter": "python",
   "pygments_lexer": "ipython3",
   "version": "3.12.4"
  }
 },
 "nbformat": 4,
 "nbformat_minor": 5
}
